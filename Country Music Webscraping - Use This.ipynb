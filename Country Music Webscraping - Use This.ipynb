{
 "cells": [
  {
   "cell_type": "code",
   "execution_count": 1,
   "metadata": {},
   "outputs": [],
   "source": [
    "import requests\n",
    "from bs4 import BeautifulSoup \n",
    "import re\n",
    "import pandas as pd\n",
    "import seaborn as sns\n",
    "import matplotlib.pyplot as plt\n",
    "\n",
    "%matplotlib inline"
   ]
  },
  {
   "cell_type": "markdown",
   "metadata": {},
   "source": [
    "_Requesting information from a website_"
   ]
  },
  {
   "cell_type": "code",
   "execution_count": 2,
   "metadata": {},
   "outputs": [
    {
     "data": {
      "text/plain": [
       "200"
      ]
     },
     "execution_count": 2,
     "metadata": {},
     "output_type": "execute_result"
    }
   ],
   "source": [
    "website_url = 'https://countrymusichalloffame.org/hall-of-fame/members/'\n",
    "response = requests.get(website_url)\n",
    "response.status_code"
   ]
  },
  {
   "cell_type": "markdown",
   "metadata": {},
   "source": [
    "### Look at Content of the result"
   ]
  },
  {
   "cell_type": "code",
   "execution_count": 3,
   "metadata": {},
   "outputs": [
    {
     "name": "stdout",
     "output_type": "stream",
     "text": [
      "<class 'requests.models.Response'>\n"
     ]
    },
    {
     "data": {
      "text/plain": [
       "b'<!DOCTYPE html>\\n<html lang=\"en-US\">\\n<head>\\t\\n<!-- Google Tag Manager -->\\n\\n<script>(function(w,d,s,l,i){w[l]=w[l]||[];w[l].push({\\'gtm.start\\':\\n\\nnew Date().getTime(),event:\\'gtm.js\\'});var f=d.getElementsByTagName(s)[0],\\n\\nj=d.createElement(s),dl=l!=\\'dataLayer\\'?\\'&l=\\'+l:\\'\\';j.async=true;j.src=\\n\\n\\'https://www.googletagmanager.com/gtm.js?id=\\'+i+dl;f.parentNode.insertBefore(j,f);\\n\\n})(window,document,\\'script\\',\\'dataLayer\\',\\'GTM-TVMMMDC\\');</script>\\n\\n<!-- End Google Tag Manager -->\\n<meta charset=\"UTF-8\" />\\n<meta name=\\'viewport\\' content=\\'width=device-width, initial-scale=1.0\\' />\\n<meta http-equiv=\\'X-UA-Compatible\\' content=\\'IE=edge\\' /><script type=\"text/javascript\">(window.NREUM||(NREUM={})).loader_config={licenseKey:\"NRJS-6b1864f7928149029ec\",applicationID:\"624285542\"};window.NREUM||(NREUM={}),__nr_require=function(e,t,n){function r(n){if(!t[n]){var i=t[n]={exports:{}};e[n][0].call(i.exports,function(t){var i=e[n][1][t];return r(i||t)},i,i.exports)}return t[n].exports}if(\"function\"==typeof __nr_require)return __nr_require;for(var i=0;i<n.length;i++)r(n[i]);return r}({1:[function(e,t,n){function r(){}function i(e,t,n){return function(){return o(e,[u.now()].concat(c(arguments)),t?null:this,n),t?void 0:this}}var o=e(\"handle\"),a=e(7),c=e(8),f=e(\"ee\").get(\"tracer\"),u=e(\"loader\"),s=NREUM;\"undefined\"==typeof window.newrelic&&(newrelic=s);var d=[\"setPageViewName\",\"setCustomAttribute\",\"setErrorHandler\",\"finished\",\"addToTrace\",\"inlineHit\",\"addRelease\"],p=\"api-\",l=p+\"ixn-\";a(d,function(e,t){s[t]=i(p+t,!0,\"api\")}),s.addPageAction=i(p+\"addPageAction\",!0),s.setCurrentRouteName=i(p+\"routeName\",!0),t.exports=newrelic,s.interaction=function(){return(new r).get()};var m=r.prototype={createTracer:function(e,t){var n={},r=this,i=\"function\"==typeof t;return o(l+\"tracer\",[u.now(),e,n],r),function(){if(f.emit((i?\"\":\"no-\")+\"fn-start\",[u.now(),r,i],n),i)try{return t.apply(this,arguments)}catch(e){throw f.emit(\"fn-err\",[arguments,this,e],n),e}finally{f.emit(\"fn-end\",[u.now()],n)}}}};a(\"actionText,setName,setAttribute,save,ignore,onEnd,getContext,end,get\".split(\",\"),function(e,t){m[t]=i(l+t)}),newrelic.noticeError=function(e,t){\"string\"==typeof e&&(e=new Error(e)),o(\"err\",[e,u.now(),!1,t])}},{}],2:[function(e,t,n){function r(){return c.exists&&performance.now?Math.round(performance.now()):(o=Math.max((new Date).getTime(),o))-a}function i(){return o}var o=(new Date).getTime(),a=o,c=e(9);t.exports=r,t.exports.offset=a,t.exports.getLastTimestamp=i},{}],3:[function(e,t,n){function r(e){return!(!e||!e.protocol||\"file:\"===e.protocol)}t.exports=r},{}],4:[function(e,t,n){function r(e,t){var n=e.getEntries();n.forEach(function(e){\"first-paint\"===e.name?d(\"timing\",[\"fp\",Math.floor(e.startTime)]):\"first-contentful-paint\"===e.name&&d(\"timing\",[\"fcp\",Math.floor(e.startTime)])})}function i(e,t){var n=e.getEntries();n.length>0&&d(\"lcp\",[n[n.length-1]])}function o(e){e.getEntries().forEach(function(e){e.hadRecentInput||d(\"cls\",[e])})}function a(e){if(e instanceof m&&!g){var t=Math.round(e.timeStamp),n={type:e.type};t<=p.now()?n.fid=p.now()-t:t>p.offset&&t<=Date.now()?(t-=p.offset,n.fid=p.now()-t):t=p.now(),g=!0,d(\"timing\",[\"fi\",t,n])}}function c(e){d(\"pageHide\",[p.now(),e])}if(!(\"init\"in NREUM&&\"page_view_timing\"in NREUM.init&&\"enabled\"in NREUM.init.page_view_timing&&NREUM.init.page_view_timing.enabled===!1)){var f,u,s,d=e(\"handle\"),p=e(\"loader\"),l=e(6),m=NREUM.o.EV;if(\"PerformanceObserver\"in window&&\"function\"==typeof window.PerformanceObserver){f=new PerformanceObserver(r);try{f.observe({entryTypes:[\"paint\"]})}catch(v){}u=new PerformanceObserver(i);try{u.observe({entryTypes:[\"largest-contentful-paint\"]})}catch(v){}s=new PerformanceObserver(o);try{s.observe({type:\"layout-shift\",buffered:!0})}catch(v){}}if(\"addEventListener\"in document){var g=!1,w=[\"click\",\"keydown\",\"mousedown\",\"pointerdown\",\"touchstart\"];w.forEach(function(e){document.addEventListener(e,a,!1)})}l(c)}},{}],5:[function(e,t,n){function r(e,t){if(!i)return!1;if(e!==i)return!1;if(!t)return!0;if(!o)return!1;for(var n=o.split(\".\"),r=t.split(\".\"),a=0;a<r.length;a++)if(r[a]!==n[a])return!1;return!0}var i=null,o=null,a=/Version\\\\/(\\\\S+)\\\\s+Safari/;if(navigator.userAgent){var c=navigator.userAgent,f=c.match(a);f&&c.indexOf(\"Chrome\")===-1&&c.indexOf(\"Chromium\")===-1&&(i=\"Safari\",o=f[1])}t.exports={agent:i,version:o,match:r}},{}],6:[function(e,t,n){function r(e){function t(){e(a&&document[a]?document[a]:document[i]?\"hidden\":\"visible\")}\"addEventListener\"in document&&o&&document.addEventListener(o,t,!1)}t.exports=r;var i,o,a;\"undefined\"!=typeof document.hidden?(i=\"hidden\",o=\"visibilitychange\",a=\"visibilityState\"):\"undefined\"!=typeof document.msHidden?(i=\"msHidden\",o=\"msvisibilitychange\"):\"undefined\"!=typeof document.webkitHidden&&(i=\"webkitHidden\",o=\"webkitvisibilitychange\",a=\"webkitVisibilityState\")},{}],7:[function(e,t,n){function r(e,t){var n=[],r=\"\",o=0;for(r in e)i.call(e,r)&&(n[o]=t(r,e[r]),o+=1);return n}var i=Object.prototype.hasOwnProperty;t.exports=r},{}],8:[function(e,t,n){function r(e,t,n){t||(t=0),\"undefined\"==typeof n&&(n=e?e.length:0);for(var r=-1,i=n-t||0,o=Array(i<0?0:i);++r<i;)o[r]=e[t+r];return o}t.exports=r},{}],9:[function(e,t,n){t.exports={exists:\"undefined\"!=typeof window.performance&&window.performance.timing&&\"undefined\"!=typeof window.performance.timing.navigationStart}},{}],ee:[function(e,t,n){function r(){}function i(e){function t(e){return e&&e instanceof r?e:e?u(e,f,a):a()}function n(n,r,i,o,a){if(a!==!1&&(a=!0),!l.aborted||o){e&&a&&e(n,r,i);for(var c=t(i),f=v(n),u=f.length,s=0;s<u;s++)f[s].apply(c,r);var p=d[h[n]];return p&&p.push([b,n,r,c]),c}}function o(e,t){y[e]=v(e).concat(t)}function m(e,t){var n=y[e];if(n)for(var r=0;r<n.length;r++)n[r]===t&&n.splice(r,1)}function v(e){return y[e]||[]}function g(e){return p[e]=p[e]||i(n)}function w(e,t){s(e,function(e,n){t=t||\"feature\",h[n]=t,t in d||(d[t]=[])})}var y={},h={},b={on:o,addEventListener:o,removeEventListener:m,emit:n,get:g,listeners:v,context:t,buffer:w,abort:c,aborted:!1};return b}function o(e){return u(e,f,a)}function a(){return new r}function c(){(d.api||d.feature)&&(l.aborted=!0,d=l.backlog={})}var f=\"nr@context\",u=e(\"gos\"),s=e(7),d={},p={},l=t.exports=i();t.exports.getOrSetContext=o,l.backlog=d},{}],gos:[function(e,t,n){function r(e,t,n){if(i.call(e,t))return e[t];var r=n();if(Object.defineProperty&&Object.keys)try{return Object.defineProperty(e,t,{value:r,writable:!0,enumerable:!1}),r}catch(o){}return e[t]=r,r}var i=Object.prototype.hasOwnProperty;t.exports=r},{}],handle:[function(e,t,n){function r(e,t,n,r){i.buffer([e],r),i.emit(e,t,n)}var i=e(\"ee\").get(\"handle\");t.exports=r,r.ee=i},{}],id:[function(e,t,n){function r(e){var t=typeof e;return!e||\"object\"!==t&&\"function\"!==t?-1:e===window?0:a(e,o,function(){return i++})}var i=1,o=\"nr@id\",a=e(\"gos\");t.exports=r},{}],loader:[function(e,t,n){function r(){if(!E++){var e=x.info=NREUM.info,t=l.getElementsByTagName(\"script\")[0];if(setTimeout(u.abort,3e4),!(e&&e.licenseKey&&e.applicationID&&t))return u.abort();f(h,function(t,n){e[t]||(e[t]=n)});var n=a();c(\"mark\",[\"onload\",n+x.offset],null,\"api\"),c(\"timing\",[\"load\",n]);var r=l.createElement(\"script\");r.src=\"https://\"+e.agent,t.parentNode.insertBefore(r,t)}}function i(){\"complete\"===l.readyState&&o()}function o(){c(\"mark\",[\"domContent\",a()+x.offset],null,\"api\")}var a=e(2),c=e(\"handle\"),f=e(7),u=e(\"ee\"),s=e(5),d=e(3),p=window,l=p.document,m=\"addEventListener\",v=\"attachEvent\",g=p.XMLHttpRequest,w=g&&g.prototype;if(d(p.location)){NREUM.o={ST:setTimeout,SI:p.setImmediate,CT:clearTimeout,XHR:g,REQ:p.Request,EV:p.Event,PR:p.Promise,MO:p.MutationObserver};var y=\"\"+location,h={beacon:\"bam.nr-data.net\",errorBeacon:\"bam.nr-data.net\",agent:\"js-agent.newrelic.com/nr-1208.min.js\"},b=g&&w&&w[m]&&!/CriOS/.test(navigator.userAgent),x=t.exports={offset:a.getLastTimestamp(),now:a,origin:y,features:{},xhrWrappable:b,userAgent:s};e(1),e(4),l[m]?(l[m](\"DOMContentLoaded\",o,!1),p[m](\"load\",r,!1)):(l[v](\"onreadystatechange\",i),p[v](\"onload\",r)),c(\"mark\",[\"firstbyte\",a.getLastTimestamp()],null,\"api\");var E=0}},{}],\"wrap-function\":[function(e,t,n){function r(e,t){function n(t,n,r,f,u){function nrWrapper(){var o,a,s,p;try{a=this,o=d(arguments),s=\"function\"==typeof r?r(o,a):r||{}}catch(l){i([l,\"\",[o,a,f],s],e)}c(n+\"start\",[o,a,f],s,u);try{return p=t.apply(a,o)}catch(m){throw c(n+\"err\",[o,a,m],s,u),m}finally{c(n+\"end\",[o,a,p],s,u)}}return a(t)?t:(n||(n=\"\"),nrWrapper[p]=t,o(t,nrWrapper,e),nrWrapper)}function r(e,t,r,i,o){r||(r=\"\");var c,f,u,s=\"-\"===r.charAt(0);for(u=0;u<t.length;u++)f=t[u],c=e[f],a(c)||(e[f]=n(c,s?f+r:r,i,f,o))}function c(n,r,o,a){if(!m||t){var c=m;m=!0;try{e.emit(n,r,o,t,a)}catch(f){i([f,n,r,o],e)}m=c}}return e||(e=s),n.inPlace=r,n.flag=p,n}function i(e,t){t||(t=s);try{t.emit(\"internal-error\",e)}catch(n){}}function o(e,t,n){if(Object.defineProperty&&Object.keys)try{var r=Object.keys(e);return r.forEach(function(n){Object.defineProperty(t,n,{get:function(){return e[n]},set:function(t){return e[n]=t,t}})}),t}catch(o){i([o],n)}for(var a in e)l.call(e,a)&&(t[a]=e[a]);return t}function a(e){return!(e&&e instanceof Function&&e.apply&&!e[p])}function c(e,t){var n=t(e);return n[p]=e,o(e,n,s),n}function f(e,t,n){var r=e[t];e[t]=c(r,n)}function u(){for(var e=arguments.length,t=new Array(e),n=0;n<e;++n)t[n]=arguments[n];return t}var s=e(\"ee\"),d=e(8),p=\"nr@original\",l=Object.prototype.hasOwnProperty,m=!1;t.exports=r,t.exports.wrapFunction=c,t.exports.wrapInPlace=f,t.exports.argsToArray=u},{}]},{},[\"loader\"]);</script>\\n<link rel=\"profile\" href=\"https://gmpg.org/xfn/11\" />\\n<link rel=\"pingback\" href=\"https://countrymusichalloffame.org/wp/xmlrpc.php\" />\\n<!--[if lt IE 9]>\\n\\t<script src=\"https://countrymusichalloffame.org/content/themes/bb-theme/js/html5shiv.js\"></script>\\n\\t<script src=\"https://countrymusichalloffame.org/content/themes/bb-theme/js/respond.min.js\"></script>\\n<![endif]-->\\n<title>Hall of Fame Members | Country Music Hall of Fame</title>\\n\\n<!-- This site is optimized with the Yoast SEO plugin v11.2.1 - https://yoast.com/wordpress/plugins/seo/ -->\\n<meta name=\"description\" content=\"Learn more about all of the current members of the Country Music Hall of Fame, country music&#039;s highest honor. New Hall of Fame members are inducted annually.\"/>\\n<link rel=\"canonical\" href=\"https://countrymusichalloffame.org/hall-of-fame/members/\" />\\n<meta property=\"og:locale\" content=\"en_US\" />\\n<meta property=\"og:type\" content=\"article\" />\\n<meta property=\"og:title\" content=\"Hall of Fame Members | Country Music Hall of Fame\" />\\n<meta property=\"og:description\" content=\"Learn more about all of the current members of the Country Music Hall of Fame, country music&#039;s highest honor. New Hall of Fame members are inducted annually.\" />\\n<meta property=\"og:url\" content=\"https://countrymusichalloffame.org/hall-of-fame/members/\" />\\n<meta property=\"og:site_name\" content=\"Country Music Hall of Fame\" />\\n<meta property=\"article:publisher\" content=\"https://www.facebook.com/countrymusichof\" />\\n<meta property=\"og:image\" content=\"https://cmhof.imgix.net/content/uploads/2019/04/CMHOF-PressReleases_Members-Header3.jpg\" />\\n<meta property=\"og:image:secure_url\" content=\"https://cmhof.imgix.net/content/uploads/2019/04/CMHOF-PressReleases_Members-Header3.jpg\" />\\n<meta name=\"twitter:card\" content=\"summary_large_image\" />\\n<meta name=\"twitter:description\" content=\"Learn more about all of the current members of the Country Music Hall of Fame, country music&#039;s highest honor. New Hall of Fame members are inducted annually.\" />\\n<meta name=\"twitter:title\" content=\"Hall of Fame Members | Country Music Hall of Fame\" />\\n<meta name=\"twitter:site\" content=\"@countrymusichof\" />\\n<meta name=\"twitter:image\" content=\"https://cmhof.imgix.net/content/uploads/2019/04/CMHOF-PressReleases_Members-Header3.jpg\" />\\n<meta name=\"twitter:creator\" content=\"@countrymusichof\" />\\n<script type=\\'application/ld+json\\' class=\\'yoast-schema-graph yoast-schema-graph--main\\'>{\"@context\":\"https://schema.org\",\"@graph\":[{\"@type\":\"Organization\",\"@id\":\"https://countrymusichalloffame.org/#organization\",\"name\":\"Country Music Hall of Fame\",\"url\":\"https://countrymusichalloffame.org/\",\"sameAs\":[\"https://www.facebook.com/countrymusichof\",\"http://instagram.com/officialcmhof\",\"http://www.youtube.com/user/countrymusichof\",\"https://twitter.com/countrymusichof\"],\"logo\":{\"@type\":\"ImageObject\",\"@id\":\"https://countrymusichalloffame.org/#logo\",\"url\":\"https://cmhof.imgix.net/content/uploads/2019/05/CMHOF-Logo.jpg\",\"caption\":\"Country Music Hall of Fame\"},\"image\":{\"@id\":\"https://countrymusichalloffame.org/#logo\"}},{\"@type\":\"WebSite\",\"@id\":\"https://countrymusichalloffame.org/#website\",\"url\":\"https://countrymusichalloffame.org/\",\"name\":\"Country Music Hall of Fame\",\"publisher\":{\"@id\":\"https://countrymusichalloffame.org/#organization\"},\"potentialAction\":{\"@type\":\"SearchAction\",\"target\":\"https://countrymusichalloffame.org/?s={search_term_string}\",\"query-input\":\"required name=search_term_string\"}},{\"@type\":\"WebPage\",\"@id\":\"https://countrymusichalloffame.org/hall-of-fame/members/#webpage\",\"url\":\"https://countrymusichalloffame.org/hall-of-fame/members/\",\"inLanguage\":\"en-US\",\"name\":\"Hall of Fame Members | Country Music Hall of Fame\",\"isPartOf\":{\"@id\":\"https://countrymusichalloffame.org/#website\"},\"image\":{\"@type\":\"ImageObject\",\"@id\":\"https://countrymusichalloffame.org/hall-of-fame/members/#primaryimage\",\"url\":\"https://cmhof.imgix.net/content/uploads/2019/04/CMHOF-PressReleases_Members-Header3.jpg\"},\"primaryImageOfPage\":{\"@id\":\"https://countrymusichalloffame.org/hall-of-fame/members/#primaryimage\"},\"datePublished\":\"2019-01-22T16:31:07+00:00\",\"dateModified\":\"2021-03-31T19:42:14+00:00\",\"description\":\"Learn more about all of the current members of the Country Music Hall of Fame, country music\\'s highest honor. New Hall of Fame members are inducted annually.\"}]}</script>\\n<!-- / Yoast SEO plugin. -->\\n\\n<link rel=\\'dns-prefetch\\' href=\\'//s.w.org\\' />\\n<link rel=\"alternate\" type=\"application/rss+xml\" title=\"Country Music Hall of Fame &raquo; Feed\" href=\"https://countrymusichalloffame.org/feed/\" />\\n<link rel=\"alternate\" type=\"application/rss+xml\" title=\"Country Music Hall of Fame &raquo; Comments Feed\" href=\"https://countrymusichalloffame.org/comments/feed/\" />\\n\\t\\t<script type=\"text/javascript\">\\n\\t\\t\\twindow._wpemojiSettings = {\"baseUrl\":\"https:\\\\/\\\\/s.w.org\\\\/images\\\\/core\\\\/emoji\\\\/11.2.0\\\\/72x72\\\\/\",\"ext\":\".png\",\"svgUrl\":\"https:\\\\/\\\\/s.w.org\\\\/images\\\\/core\\\\/emoji\\\\/11.2.0\\\\/svg\\\\/\",\"svgExt\":\".svg\",\"source\":{\"concatemoji\":\"https:\\\\/\\\\/countrymusichalloffame.org\\\\/wp\\\\/wp-includes\\\\/js\\\\/wp-emoji-release.min.js?ver=5.1.1\"}};\\n\\t\\t\\t!function(a,b,c){function d(a,b){var c=String.fromCharCode;l.clearRect(0,0,k.width,k.height),l.fillText(c.apply(this,a),0,0);var d=k.toDataURL();l.clearRect(0,0,k.width,k.height),l.fillText(c.apply(this,b),0,0);var e=k.toDataURL();return d===e}function e(a){var b;if(!l||!l.fillText)return!1;switch(l.textBaseline=\"top\",l.font=\"600 32px Arial\",a){case\"flag\":return!(b=d([55356,56826,55356,56819],[55356,56826,8203,55356,56819]))&&(b=d([55356,57332,56128,56423,56128,56418,56128,56421,56128,56430,56128,56423,56128,56447],[55356,57332,8203,56128,56423,8203,56128,56418,8203,56128,56421,8203,56128,56430,8203,56128,56423,8203,56128,56447]),!b);case\"emoji\":return b=d([55358,56760,9792,65039],[55358,56760,8203,9792,65039]),!b}return!1}function f(a){var c=b.createElement(\"script\");c.src=a,c.defer=c.type=\"text/javascript\",b.getElementsByTagName(\"head\")[0].appendChild(c)}var g,h,i,j,k=b.createElement(\"canvas\"),l=k.getContext&&k.getContext(\"2d\");for(j=Array(\"flag\",\"emoji\"),c.supports={everything:!0,everythingExceptFlag:!0},i=0;i<j.length;i++)c.supports[j[i]]=e(j[i]),c.supports.everything=c.supports.everything&&c.supports[j[i]],\"flag\"!==j[i]&&(c.supports.everythingExceptFlag=c.supports.everythingExceptFlag&&c.supports[j[i]]);c.supports.everythingExceptFlag=c.supports.everythingExceptFlag&&!c.supports.flag,c.DOMReady=!1,c.readyCallback=function(){c.DOMReady=!0},c.supports.everything||(h=function(){c.readyCallback()},b.addEventListener?(b.addEventListener(\"DOMContentLoaded\",h,!1),a.addEventListener(\"load\",h,!1)):(a.attachEvent(\"onload\",h),b.attachEvent(\"onreadystatechange\",function(){\"complete\"===b.readyState&&c.readyCallback()})),g=c.source||{},g.concatemoji?f(g.concatemoji):g.wpemoji&&g.twemoji&&(f(g.twemoji),f(g.wpemoji)))}(window,document,window._wpemojiSettings);\\n\\t\\t</script>\\n\\t\\t<style type=\"text/css\">\\nimg.wp-smiley,\\nimg.emoji {\\n\\tdisplay: inline !important;\\n\\tborder: none !important;\\n\\tbox-shadow: none !important;\\n\\theight: 1em !important;\\n\\twidth: 1em !important;\\n\\tmargin: 0 .07em !important;\\n\\tvertical-align: -0.1em !important;\\n\\tbackground: none !important;\\n\\tpadding: 0 !important;\\n}\\n</style>\\n\\t<link rel=\\'stylesheet\\' id=\\'wp-block-library-css\\'  href=\\'https://countrymusichalloffame.org/wp/wp-includes/css/dist/block-library/style.min.css?ver=5.1.1\\' type=\\'text/css\\' media=\\'all\\' />\\n<link rel=\\'stylesheet\\' id=\\'wp-block-library-theme-css\\'  href=\\'https://countrymusichalloffame.org/wp/wp-includes/css/dist/block-library/theme.min.css?ver=5.1.1\\' type=\\'text/css\\' media=\\'all\\' />\\n<link rel=\\'stylesheet\\' id=\\'5by5-plugin-styles-css\\'  href=\\'https://countrymusichalloffame.org/content/plugins/5by5-plugin/assets/css/plugin-main.min.css?ver=5.1.1\\' type=\\'text/css\\' media=\\'all\\' />\\n<link rel=\\'stylesheet\\' id=\\'fl-builder-layout-12-css\\'  href=\\'https://countrymusichalloffame.org/content/uploads/bb-plugin/cache/12-layout.css?ver=de6ed36f85a1ab493dfd9b920ed5263a\\' type=\\'text/css\\' media=\\'all\\' />\\n<link rel=\\'stylesheet\\' id=\\'fl-builder-layout-bundle-7c517305b2d6731e386e9c1dc00217d5-css\\'  href=\\'https://countrymusichalloffame.org/content/uploads/bb-plugin/cache/7c517305b2d6731e386e9c1dc00217d5-layout-bundle.css?ver=2.2.3-1.2.3.4\\' type=\\'text/css\\' media=\\'all\\' />\\n<link rel=\\'stylesheet\\' id=\\'child-main-styles-css\\'  href=\\'https://countrymusichalloffame.org/content/themes/cmhof-theme/assets/css/main.min.css?ver=1.0.0\\' type=\\'text/css\\' media=\\'all\\' />\\n<link rel=\\'stylesheet\\' id=\\'cmhof-plugin-styles-css\\'  href=\\'https://countrymusichalloffame.org/content/plugins/cmhof-plugin/_assets/css/components.min.css?ver=5.1.1\\' type=\\'text/css\\' media=\\'all\\' />\\n<link rel=\\'stylesheet\\' id=\\'jquery-magnificpopup-css\\'  href=\\'https://countrymusichalloffame.org/content/plugins/bb-plugin/css/jquery.magnificpopup.min.css?ver=2.2.3\\' type=\\'text/css\\' media=\\'all\\' />\\n<link rel=\\'stylesheet\\' id=\\'base-css\\'  href=\\'https://countrymusichalloffame.org/content/themes/bb-theme/css/base.min.css?ver=1.7.2\\' type=\\'text/css\\' media=\\'all\\' />\\n<link rel=\\'stylesheet\\' id=\\'fl-automator-skin-css\\'  href=\\'https://countrymusichalloffame.org/content/uploads/bb-theme/skin-5ec3cb1be2817.css?ver=1.7.2\\' type=\\'text/css\\' media=\\'all\\' />\\n<script type=\\'text/javascript\\' src=\\'https://countrymusichalloffame.org/wp/wp-includes/js/jquery/jquery.js?ver=1.12.4\\'></script>\\n<script type=\\'text/javascript\\' src=\\'https://countrymusichalloffame.org/wp/wp-includes/js/jquery/jquery-migrate.min.js?ver=1.4.1\\'></script>\\n<script type=\\'text/javascript\\' src=\\'https://countrymusichalloffame.org/wp/wp-includes/js/imagesloaded.min.js?ver=5.1.1\\'></script>\\n<link rel=\\'https://api.w.org/\\' href=\\'https://countrymusichalloffame.org/wp-json/\\' />\\n<link rel=\"EditURI\" type=\"application/rsd+xml\" title=\"RSD\" href=\"https://countrymusichalloffame.org/wp/xmlrpc.php?rsd\" />\\n<link rel=\"wlwmanifest\" type=\"application/wlwmanifest+xml\" href=\"https://countrymusichalloffame.org/wp/wp-includes/wlwmanifest.xml\" /> \\n<meta name=\"generator\" content=\"WordPress 5.1.1\" />\\n<link rel=\\'shortlink\\' href=\\'https://countrymusichalloffame.org/?p=12\\' />\\n<link rel=\"alternate\" type=\"application/json+oembed\" href=\"https://countrymusichalloffame.org/wp-json/oembed/1.0/embed?url=https%3A%2F%2Fcountrymusichalloffame.org%2Fhall-of-fame%2Fmembers%2F\" />\\n<link rel=\"alternate\" type=\"text/xml+oembed\" href=\"https://countrymusichalloffame.org/wp-json/oembed/1.0/embed?url=https%3A%2F%2Fcountrymusichalloffame.org%2Fhall-of-fame%2Fmembers%2F&#038;format=xml\" />\\n\\n\\t\\t<script>\\n\\t\\t(function(h,o,t,j,a,r){\\n\\t\\t\\th.hj=h.hj||function(){(h.hj.q=h.hj.q||[]).push(arguments)};\\n\\t\\t\\th._hjSettings={hjid:1263612,hjsv:5};\\n\\t\\t\\ta=o.getElementsByTagName(\\'head\\')[0];\\n\\t\\t\\tr=o.createElement(\\'script\\');r.async=1;\\n\\t\\t\\tr.src=t+h._hjSettings.hjid+j+h._hjSettings.hjsv;\\n\\t\\t\\ta.appendChild(r);\\n\\t\\t})(window,document,\\'//static.hotjar.com/c/hotjar-\\',\\'.js?sv=\\');\\n\\t\\t</script>\\n\\t\\t\\t\\t<style type=\"text/css\">.recentcomments a{display:inline !important;padding:0 !important;margin:0 !important;}</style>\\n\\t\\t<link rel=\"icon\" href=\"https://cmhof.imgix.net/content/uploads/2019/03/11072729/cropped-cmhof-logo-150x150.png\" sizes=\"32x32\" />\\n<link rel=\"icon\" href=\"https://cmhof.imgix.net/content/uploads/2019/03/11072729/cropped-cmhof-logo-300x300.png\" sizes=\"192x192\" />\\n<link rel=\"apple-touch-icon-precomposed\" href=\"https://cmhof.imgix.net/content/uploads/2019/03/11072729/cropped-cmhof-logo-300x300.png\" />\\n<meta name=\"msapplication-TileImage\" content=\"https://cmhof.imgix.net/content/uploads/2019/03/11072729/cropped-cmhof-logo-300x300.png\" />\\n</head>\\n\\n<body class=\"page-template-default page page-id-12 page-child parent-pageid-10 fl-builder fl-theme-builder-header fl-theme-builder-footer cmhof fl-framework-base fl-preset-default fl-full-width fl-search-active\" itemscope=\"itemscope\" itemtype=\"https://schema.org/WebPage\">\\n\\t<!-- Google Tag Manager (noscript) -->\\n\\n<noscript><iframe src=\"https://www.googletagmanager.com/ns.html?id=GTM-TVMMMDC\"\\n\\nheight=\"0\" width=\"0\" style=\"display:none;visibility:hidden\"></iframe></noscript>\\n\\n<!-- End Google Tag Manager (noscript) -->\\n\\n\\n\\n\\n<!-- Quick Alert Banner -->\\n<!-- ------------------------------------------------------------------------------------------------------------------------- -->\\n\\t<div class=\"quick-alert-banner js-quick-alert-banner\">\\n\\t\\t<div class=\"quick-alert-banner-container\">\\n\\t\\t\\t<div class=\"quick-alert-banner_content\">\\n\\t\\t\\t\\t<div class=\"quick-alert-banner_content--close\">\\n\\t\\t\\t\\t\\t<i class=\"fas fa-times-circle\"></i>\\n\\t\\t\\t\\t</div>\\n\\t\\t\\t\\t<div class=\"quick-alert-banner_content--copy\">\\n\\t\\t\\t\\t\\t<p><body>\\r\\n  <a href=\"https://countrymusichalloffame.org/buy-tickets/\" style=\"color:#FFFFFF;\">TICKET AVAILABILITY IS LIMITED. PLEASE RESERVE YOUR TIMED TICKET BY PHONE AT 615-416-2001 OR BY CLICKING HERE.\\r\\n </a>\\r\\n<script type=\"text/javascript\">window.NREUM||(NREUM={});NREUM.info={\"beacon\":\"bam-cell.nr-data.net\",\"licenseKey\":\"NRJS-6b1864f7928149029ec\",\"applicationID\":\"624285542\",\"transactionName\":\"MlxTbERXWBVQU0RRWgsWcFtCX1kIHkBRX1A=\",\"queueTime\":0,\"applicationTime\":609,\"atts\":\"HhtQGgxNSxs=\",\"errorBeacon\":\"bam-cell.nr-data.net\",\"agent\":\"\"}</script></body>\\r\\n</p>\\n\\t\\t\\t\\t</div>\\n\\t\\t\\t</div>\\n\\t\\t</div>\\n\\t</div>\\n<!-- /Quick Alert Banner -->\\n<!-- ------------------------------------------------------------------------------------------------------------------------- -->\\n\\n\\n<div class=\"fl-page\">\\n\\t<header class=\"fl-builder-content fl-builder-content-60 fl-builder-global-templates-locked\" data-post-id=\"60\" itemscope=\"itemscope\" itemtype=\"http://schema.org/WPHeader\" data-type=\"header\" data-sticky=\"0\" data-shrink=\"0\" data-overlay=\"0\" data-overlay-bg=\"transparent\"><div class=\"fl-row fl-row-full-width fl-row-bg-none fl-node-5c48c30b68d6b top-bar\" data-node=\"5c48c30b68d6b\">\\n\\t<div class=\"fl-row-content-wrap\">\\n\\t\\t\\t\\t\\t\\t<div class=\"fl-row-content fl-row-fixed-width fl-node-content\">\\n\\t\\t\\n<div class=\"fl-col-group fl-node-5c48c30b6c39e\" data-node=\"5c48c30b6c39e\">\\n\\t\\t\\t<div class=\"fl-col fl-node-5c48c30b6c4bc fl-col-small sites-nav\" data-node=\"5c48c30b6c4bc\">\\n\\t<div class=\"fl-col-content fl-node-content\">\\n\\t<div class=\"fl-module fl-module-menu fl-node-5c48c3512e029\" data-node=\"5c48c3512e029\">\\n\\t<div class=\"fl-module-content fl-node-content\">\\n\\t\\t<div class=\"fl-menu\">\\n\\t\\t<div class=\"fl-clear\"></div>\\n\\t<nav aria-label=\"Menu\" itemscope=\"itemscope\" itemtype=\"https://schema.org/SiteNavigationElement\"><ul id=\"menu-top-navigation\" class=\"menu fl-menu-horizontal fl-toggle-none\"><li id=\"menu-item-50\" class=\"select-another-site menu-item menu-item-type-custom menu-item-object-custom\"><a href=\"#\">Select Another Site</a></li><li id=\"menu-item-52\" class=\"menu-item menu-item-type-custom menu-item-object-custom\"><a href=\"https://hatchshowprint.com/\">Hatch Show Print</a></li><li id=\"menu-item-53\" class=\"menu-item menu-item-type-custom menu-item-object-custom\"><a href=\"https://studiob.org\">Historic RCA Studio B</a></li><li id=\"menu-item-54\" class=\"menu-item menu-item-type-custom menu-item-object-custom\"><a href=\"https://cmatheater.com\">CMA Theater</a></li></ul></nav></div>\\n\\t</div>\\n</div>\\n\\t</div>\\n</div>\\n\\t\\t\\t<div class=\"fl-col fl-node-5ca53a28bbf36 fl-col-small nav-hours\" data-node=\"5ca53a28bbf36\">\\n\\t<div class=\"fl-col-content fl-node-content\">\\n\\t<div class=\"fl-module fl-module-rich-text fl-node-5ca53a28bbe0b\" data-node=\"5ca53a28bbe0b\">\\n\\t<div class=\"fl-module-content fl-node-content\">\\n\\t\\t<div class=\"fl-rich-text\">\\n\\t<p style=\"text-align: center;\">Open Daily</p>\\n</div>\\n\\t</div>\\n</div>\\n\\t</div>\\n</div>\\n\\t\\t\\t<div class=\"fl-col fl-node-5c48c30b6c4c2 fl-col-small middle-nav\" data-node=\"5c48c30b6c4c2\">\\n\\t<div class=\"fl-col-content fl-node-content\">\\n\\t<div class=\"fl-module fl-module-menu fl-node-5c6c6ebd51a0b\" data-node=\"5c6c6ebd51a0b\">\\n\\t<div class=\"fl-module-content fl-node-content\">\\n\\t\\t<div class=\"fl-menu fl-menu-responsive-toggle-mobile\">\\n\\t<button class=\"fl-menu-mobile-toggle hamburger\" aria-label=\"Menu\"><span class=\"svg-container\"><svg version=\"1.1\" class=\"hamburger-menu\" xmlns=\"http://www.w3.org/2000/svg\" xmlns:xlink=\"http://www.w3.org/1999/xlink\" viewBox=\"0 0 512 512\">\\n<rect class=\"fl-hamburger-menu-top\" width=\"512\" height=\"102\"/>\\n<rect class=\"fl-hamburger-menu-middle\" y=\"205\" width=\"512\" height=\"102\"/>\\n<rect class=\"fl-hamburger-menu-bottom\" y=\"410\" width=\"512\" height=\"102\"/>\\n</svg>\\n</span></button>\\t<div class=\"fl-clear\"></div>\\n\\t<nav aria-label=\"Menu\" itemscope=\"itemscope\" itemtype=\"https://schema.org/SiteNavigationElement\"><ul id=\"menu-member-navigation\" class=\"menu fl-menu-horizontal fl-toggle-none\"><li id=\"menu-item-392\" class=\"menu-item menu-item-type-custom menu-item-object-custom\"><a href=\"/support/membership/\">Become a Museum Member</a></li><li id=\"menu-item-393\" class=\"menu-item menu-item-type-custom menu-item-object-custom\"><a href=\"/tickets-sign-in\">Museum Member Log In</a></li></ul></nav></div>\\n\\t</div>\\n</div>\\n\\t</div>\\n</div>\\n\\t\\t\\t<div class=\"fl-col fl-node-5c48c30b6c4c6 fl-col-small right-nav\" data-node=\"5c48c30b6c4c6\">\\n\\t<div class=\"fl-col-content fl-node-content\">\\n\\t<div class=\"fl-module fl-module-menu fl-node-5c9950e6304c5\" data-node=\"5c9950e6304c5\">\\n\\t<div class=\"fl-module-content fl-node-content\">\\n\\t\\t<div class=\"fl-menu\">\\n\\t\\t<div class=\"fl-clear\"></div>\\n\\t<nav aria-label=\"Menu\" itemscope=\"itemscope\" itemtype=\"https://schema.org/SiteNavigationElement\"><ul id=\"menu-top-navigation-right-navigation\" class=\"menu fl-menu-horizontal fl-toggle-none\"><li id=\"menu-item-5609\" class=\"nav-search-icon menu-item menu-item-type-custom menu-item-object-custom\"><a href=\"#\"><i class=\"nav-search-icon\"></i></a></li></ul></nav></div>\\n\\t</div>\\n</div>\\n<div class=\"fl-module fl-module-widget fl-node-5c99518f82728 search-input\" data-node=\"5c99518f82728\">\\n\\t<div class=\"fl-module-content fl-node-content\">\\n\\t\\t<div class=\"fl-widget\">\\n<div class=\"widget widget_search\"><form method=\"get\" role=\"search\" action=\"https://countrymusichalloffame.org/\" title=\"Type and press Enter to search.\">\\n\\t<input type=\"search\" class=\"fl-search-input form-control\" name=\"s\" value=\"Search\" onfocus=\"if (this.value == \\'Search\\') { this.value = \\'\\'; }\" onblur=\"if (this.value == \\'\\') this.value=\\'Search\\';\" />\\n</form>\\n</div></div>\\n\\t</div>\\n</div>\\n<div class=\"fl-module fl-module-html fl-node-5ca654414424c\" data-node=\"5ca654414424c\">\\n\\t<div class=\"fl-module-content fl-node-content\">\\n\\t\\t<div class=\"fl-html\">\\n\\t\\n  <div class=\"header-shopping-cart\" style=\"width:20px;\">\\n    <a href=\"https://secure.countrymusichalloffame.org/cart/details\" postition=>\\n      <svg xmlns=\"http://www.w3.org/2000/svg\" x=\"0px\" y=\"0px\" width=\"24\" height=\"24\" viewBox=\"0 0 192 192\" style=\" fill:#000000;\">\\n        <g fill=\"none\" fill-rule=\"nonzero\" stroke=\"none\" stroke-width=\"1\" stroke-linecap=\"butt\" stroke-linejoin=\"miter\" stroke-miterlimit=\"10\" stroke-dasharray=\"\" stroke-dashoffset=\"0\" font-family=\"none\" font-weight=\"none\" font-size=\"none\" text-anchor=\"none\" style=\"mix-blend-mode: normal\"><path d=\"M0,192v-192h192v192z\" fill=\"none\"></path><g fill=\"#ffffff\"><path d=\"M35.32812,15.96875l-27.29688,0.14062l0.07813,16l16.5625,-0.07813l26.35937,63.23437l-9.57812,15.3125c-6.70684,10.71001 1.4483,25.42187 14.07812,25.42187h96.46875v-16h-96.46875c-0.89018,0 -0.99282,-0.17543 -0.51562,-0.9375l9.40625,-15.0625h59.75c5.808,0 11.16838,-3.15438 13.98438,-8.23438l28.8125,-51.89062c2.968,-5.328 -0.88838,-11.875 -6.98438,-11.875h-117.98438zM56,144c-8.83656,0 -16,7.16344 -16,16c0,8.83656 7.16344,16 16,16c8.83656,0 16,-7.16344 16,-16c0,-8.83656 -7.16344,-16 -16,-16zM136,144c-8.83656,0 -16,7.16344 -16,16c0,8.83656 7.16344,16 16,16c8.83656,0 16,-7.16344 16,-16c0,-8.83656 -7.16344,-16 -16,-16z\"></path></g></g>\\n      </svg>\\n      <span class=\"cart-number\" id=\"cart-count\">0</span>\\n    </a>\\n  </div> </div>\\n\\t</div>\\n</div>\\n\\t</div>\\n</div>\\n\\t</div>\\n\\t\\t</div>\\n\\t</div>\\n</div>\\n<div class=\"fl-row fl-row-full-width fl-row-bg-none fl-node-5c4787070f9ea c-header\" data-node=\"5c4787070f9ea\">\\n\\t<div class=\"fl-row-content-wrap\">\\n\\t\\t\\t\\t\\t\\t<div class=\"fl-row-content fl-row-fixed-width fl-node-content\">\\n\\t\\t\\n<div class=\"fl-col-group fl-node-5c47870711df8\" data-node=\"5c47870711df8\">\\n\\t\\t\\t<div class=\"fl-col fl-node-5c47870711edf fl-col-small\" data-node=\"5c47870711edf\">\\n\\t<div class=\"fl-col-content fl-node-content\">\\n\\t<div class=\"fl-module fl-module-html fl-node-5ca3b52526a16\" data-node=\"5ca3b52526a16\">\\n\\t<div class=\"fl-module-content fl-node-content\">\\n\\t\\t<div class=\"fl-html\">\\n\\t<a href=\"/\"><img src=\\'https://cmhof.imgix.net/content/uploads/2019/04/11072205/cmhof-logo-round.png\\'></a></div>\\n\\t</div>\\n</div>\\n\\t</div>\\n</div>\\n\\t\\t\\t<div class=\"fl-col fl-node-5c47870711ee5\" data-node=\"5c47870711ee5\">\\n\\t<div class=\"fl-col-content fl-node-content\">\\n\\t<div class=\"fl-module fl-module-menu fl-node-5c478752e6855\" data-node=\"5c478752e6855\">\\n\\t<div class=\"fl-module-content fl-node-content\">\\n\\t\\t<div class=\"fl-menu fl-menu-responsive-toggle-mobile\">\\n\\t<button class=\"fl-menu-mobile-toggle hamburger\" aria-label=\"Menu\"><span class=\"svg-container\"><svg version=\"1.1\" class=\"hamburger-menu\" xmlns=\"http://www.w3.org/2000/svg\" xmlns:xlink=\"http://www.w3.org/1999/xlink\" viewBox=\"0 0 512 512\">\\n<rect class=\"fl-hamburger-menu-top\" width=\"512\" height=\"102\"/>\\n<rect class=\"fl-hamburger-menu-middle\" y=\"205\" width=\"512\" height=\"102\"/>\\n<rect class=\"fl-hamburger-menu-bottom\" y=\"410\" width=\"512\" height=\"102\"/>\\n</svg>\\n</span></button>\\t<div class=\"fl-clear\"></div>\\n\\t<nav aria-label=\"Menu\" itemscope=\"itemscope\" itemtype=\"https://schema.org/SiteNavigationElement\"><ul id=\"menu-main-navigation\" class=\"menu fl-menu-horizontal fl-toggle-none\"><li id=\"menu-item-678\" class=\"menu-item menu-item-type-custom menu-item-object-custom current-menu-item current-menu-ancestor current-menu-parent menu-item-has-children fl-has-submenu\"><div class=\"fl-has-submenu-container\"><a href=\"/hall-of-fame/members/\">Hall of Fame</a><span class=\"fl-menu-toggle\"></span></div><ul class=\"sub-menu\">\\t<li id=\"menu-item-40\" class=\"menu-item menu-item-type-post_type menu-item-object-page current-menu-item page_item page-item-12 current_page_item\"><a href=\"https://countrymusichalloffame.org/hall-of-fame/members/\">Members</a></li>\\t<li id=\"menu-item-7485\" class=\"menu-item menu-item-type-post_type menu-item-object-page\"><a href=\"https://countrymusichalloffame.org/hall-of-fame/hall-of-fame-rotunda/induction-ceremony-medallion/\">Induction: Medallion Ceremony</a></li>\\t<li id=\"menu-item-7483\" class=\"menu-item menu-item-type-post_type menu-item-object-page\"><a href=\"https://countrymusichalloffame.org/hall-of-fame/hall-of-fame-rotunda/election-process/\">Election Process</a></li>\\t<li id=\"menu-item-39\" class=\"menu-item menu-item-type-post_type menu-item-object-page menu-item-has-children fl-has-submenu\"><div class=\"fl-has-submenu-container\"><a href=\"https://countrymusichalloffame.org/hall-of-fame/hall-of-fame-rotunda/\">Hall of Fame Rotunda</a><span class=\"fl-menu-toggle\"></span></div><ul class=\"sub-menu\">\\t\\t<li id=\"menu-item-12695\" class=\"menu-item menu-item-type-post_type menu-item-object-page\"><a href=\"https://countrymusichalloffame.org/architecture/\">Architecture</a></li>\\t\\t<li id=\"menu-item-12589\" class=\"menu-item menu-item-type-post_type menu-item-object-page\"><a href=\"https://countrymusichalloffame.org/plaques/\">Plaques</a></li></ul></li>\\t<li id=\"menu-item-13399\" class=\"menu-item menu-item-type-post_type menu-item-object-page menu-item-has-children fl-has-submenu\"><div class=\"fl-has-submenu-container\"><a href=\"https://countrymusichalloffame.org/circle-guard/\">Circle Guard</a><span class=\"fl-menu-toggle\"></span></div><ul class=\"sub-menu\">\\t\\t<li id=\"menu-item-13400\" class=\"menu-item menu-item-type-post_type menu-item-object-page\"><a href=\"https://countrymusichalloffame.org/rite-of-remembrance/\">Rite of Remembrance and Salute</a></li>\\t\\t<li id=\"menu-item-13401\" class=\"menu-item menu-item-type-post_type menu-item-object-page\"><a href=\"https://countrymusichalloffame.org/ceremonial-stole/\">Ceremonial Stole</a></li></ul></li>\\t<li id=\"menu-item-16988\" class=\"menu-item menu-item-type-custom menu-item-object-custom\"><a href=\"https://countrymusichalloffame.org/donate\">Support the Hall</a></li></ul></li><li id=\"menu-item-37\" class=\"menu-item menu-item-type-post_type menu-item-object-page menu-item-has-children fl-has-submenu\"><div class=\"fl-has-submenu-container\"><a href=\"https://countrymusichalloffame.org/collections/\">Collections</a><span class=\"fl-menu-toggle\"></span></div><ul class=\"sub-menu\">\\t<li id=\"menu-item-672\" class=\"menu-item menu-item-type-custom menu-item-object-custom\"><a target=\"_blank\" href=\"http://digi.countrymusichalloffame.org/\">Digital Archive</a></li>\\t<li id=\"menu-item-738\" class=\"menu-item menu-item-type-post_type menu-item-object-page\"><a href=\"https://countrymusichalloffame.org/collections/moving-image-collection/\">Moving Image Collection</a></li>\\t<li id=\"menu-item-1667\" class=\"menu-item menu-item-type-post_type menu-item-object-page\"><a href=\"https://countrymusichalloffame.org/collections/bob-pinson-recorded-sound-collection/\">Bob Pinson Recorded Sound Collection</a></li>\\t<li id=\"menu-item-740\" class=\"menu-item menu-item-type-post_type menu-item-object-page\"><a href=\"https://countrymusichalloffame.org/collections/photographs/\">Photographs</a></li>\\t<li id=\"menu-item-744\" class=\"menu-item menu-item-type-custom menu-item-object-custom\"><a href=\"https://artsandculture.google.com/partner/country-music-hall-of-fame\">Google Arts &#038; Culture</a></li>\\t<li id=\"menu-item-17951\" class=\"menu-item menu-item-type-post_type menu-item-object-page\"><a href=\"https://countrymusichalloffame.org/collectionsdonations/\">Donate to the Collection</a></li></ul></li><li id=\"menu-item-41\" class=\"menu-item menu-item-type-post_type menu-item-object-page menu-item-has-children fl-has-submenu\"><div class=\"fl-has-submenu-container\"><a href=\"https://countrymusichalloffame.org/education/\">Education</a><span class=\"fl-menu-toggle\"></span></div><ul class=\"sub-menu\">\\t<li id=\"menu-item-43\" class=\"menu-item menu-item-type-post_type menu-item-object-page menu-item-has-children fl-has-submenu\"><div class=\"fl-has-submenu-container\"><a href=\"https://countrymusichalloffame.org/education/school-programs/\">School Programs</a><span class=\"fl-menu-toggle\"></span></div><ul class=\"sub-menu\">\\t\\t<li id=\"menu-item-13277\" class=\"menu-item menu-item-type-custom menu-item-object-custom\"><a href=\"https://countrymusichalloffame.org/plan-your-visit/field-trips/\">Plan A Field Trip</a></li></ul></li>\\t<li id=\"menu-item-44\" class=\"menu-item menu-item-type-post_type menu-item-object-page\"><a href=\"https://countrymusichalloffame.org/education/distance-learning/\">Distance &#038; Virtual Learning</a></li>\\t<li id=\"menu-item-21432\" class=\"menu-item menu-item-type-custom menu-item-object-custom\"><a href=\"https://countrymusichalloffame.org/wordsandmusic/\">Words &#038; Music</a></li>\\t<li id=\"menu-item-21421\" class=\"menu-item menu-item-type-post_type menu-item-object-page\"><a href=\"https://countrymusichalloffame.org/education/teacher-resource-portal/\">Teacher &#038; Student Resource Portal</a></li>\\t<li id=\"menu-item-7492\" class=\"menu-item menu-item-type-post_type menu-item-object-page\"><a href=\"https://countrymusichalloffame.org/plan-your-visit/exhibits-activities/family-youth-programs/\">Youth &#038; Family Programs</a></li>\\t<li id=\"menu-item-45\" class=\"menu-item menu-item-type-post_type menu-item-object-page\"><a href=\"https://countrymusichalloffame.org/education/community-library-programs/\">Community &#038; Library Programs</a></li>\\t<li id=\"menu-item-742\" class=\"menu-item menu-item-type-post_type menu-item-object-page\"><a href=\"https://countrymusichalloffame.org/education/instruments/\">Instruments</a></li></ul></li><li id=\"menu-item-48\" class=\"menu-item menu-item-type-post_type menu-item-object-page menu-item-has-children fl-has-submenu\"><div class=\"fl-has-submenu-container\"><a href=\"https://countrymusichalloffame.org/watch-listen/\">Watch &#038; Listen</a><span class=\"fl-menu-toggle\"></span></div><ul class=\"sub-menu\">\\t<li id=\"menu-item-21275\" class=\"menu-item menu-item-type-custom menu-item-object-custom\"><a href=\"https://watch.countrymusichalloffame.org/browse\">Videos</a></li>\\t<li id=\"menu-item-72\" class=\"menu-item menu-item-type-post_type menu-item-object-page\"><a href=\"https://countrymusichalloffame.org/podcasts/\">Podcasts</a></li></ul></li><li id=\"menu-item-46\" class=\"hide-item menu-item menu-item-type-post_type menu-item-object-page menu-item-has-children fl-has-submenu\"><div class=\"fl-has-submenu-container\"><a href=\"https://countrymusichalloffame.org/plan-your-visit/\">Plan Your Visit</a><span class=\"fl-menu-toggle\"></span></div><ul class=\"sub-menu\">\\t<li id=\"menu-item-18020\" class=\"menu-item menu-item-type-post_type menu-item-object-page\"><a href=\"https://countrymusichalloffame.org/covid-19-policies-and-procedures/\">COVID-19 Policies and Procedures</a></li>\\t<li id=\"menu-item-21127\" class=\"menu-item menu-item-type-post_type menu-item-object-page\"><a href=\"https://countrymusichalloffame.org/museum-policies-accessibility-faq/\">Policies, Accessibility &#038; FAQ</a></li>\\t<li id=\"menu-item-9227\" class=\"menu-item menu-item-type-post_type menu-item-object-page\"><a href=\"https://countrymusichalloffame.org/current-exhibits/\">Current Exhibits</a></li>\\t<li id=\"menu-item-7490\" class=\"menu-item menu-item-type-custom menu-item-object-custom\"><a href=\"https://countrymusichalloffame.org/plan-your-visit/exhibits-activities/calendar/\">Calendar</a></li>\\t<li id=\"menu-item-2081\" class=\"menu-item menu-item-type-custom menu-item-object-custom\"><a href=\"https://cmhof.imgix.net/content/uploads/2020/08/MUS_OnProp_ReOpening_Maps_20_Rev.pdf\">Download Visitor&#8217;s Guide</a></li>\\t<li id=\"menu-item-7234\" class=\"menu-item menu-item-type-post_type menu-item-object-page\"><a href=\"https://countrymusichalloffame.org/community-counts-2/\">Locals Admission</a></li>\\t<li id=\"menu-item-544\" class=\"menu-item menu-item-type-post_type menu-item-object-page\"><a href=\"https://countrymusichalloffame.org/plan-your-visit/international-visitors/\">International Visitors</a></li>\\t<li id=\"menu-item-13079\" class=\"menu-item menu-item-type-custom menu-item-object-custom\"><a href=\"https://countrymusichalloffame.org/plan-your-visit/exhibits-activities/family-youth-programs/\">Youth &#038; Family Programs</a></li>\\t<li id=\"menu-item-7491\" class=\"menu-item menu-item-type-post_type menu-item-object-page\"><a href=\"https://countrymusichalloffame.org/plan-your-visit/exhibits-activities/public-programs/\">Public Programs</a></li>\\t<li id=\"menu-item-543\" class=\"menu-item menu-item-type-post_type menu-item-object-page\"><a href=\"https://countrymusichalloffame.org/plan-your-visit/hours-directions-parking/\">Hours, Directions &#038; Parking</a></li>\\t<li id=\"menu-item-546\" class=\"menu-item menu-item-type-post_type menu-item-object-page\"><a href=\"https://countrymusichalloffame.org/plan-your-visit/shopping-dining/\">Shopping &#038; Dining</a></li>\\t<li id=\"menu-item-541\" class=\"menu-item menu-item-type-post_type menu-item-object-page\"><a href=\"https://countrymusichalloffame.org/plan-your-visit/group-tours/\">Group Tours</a></li>\\t<li id=\"menu-item-540\" class=\"menu-item menu-item-type-post_type menu-item-object-page\"><a href=\"https://countrymusichalloffame.org/plan-your-visit/field-trips/\">Field Trips</a></li>\\t<li id=\"menu-item-573\" class=\"menu-item menu-item-type-custom menu-item-object-custom\"><a href=\"https://reservations.arestravel.com/site/welcome/9509/lodging\">Hotel Packages</a></li></ul></li><li id=\"menu-item-19266\" class=\"menu-item menu-item-type-custom menu-item-object-custom\"><a href=\"https://shop.countrymusichalloffame.org/\">Shop</a></li><li id=\"menu-item-16989\" class=\"menu-item menu-item-type-custom menu-item-object-custom\"><a href=\"https://secure.countrymusichalloffame.org/donate/q/donate\">Donate</a></li><li id=\"menu-item-47\" class=\"action-nav-item hide-item menu-item menu-item-type-post_type menu-item-object-page\"><a href=\"https://countrymusichalloffame.org/buy-tickets/\">Buy Tickets</a></li></ul></nav></div>\\n\\t</div>\\n</div>\\n\\t</div>\\n</div>\\n\\t</div>\\n\\t\\t</div>\\n\\t</div>\\n</div>\\n</header>\\n    <!-- Begin Mobile Nav For Main Site -->\\n    <div class=\"mobile-nav-container\">\\n        <div class=\"mobile-sites-links\">\\n            <div class=\"menu-mobile-select-site-navigation-container\"><ul id=\"menu-mobile-select-site-navigation\" class=\"menu\"><li id=\"menu-item-388\" class=\"menu-item menu-item-type-custom menu-item-object-custom menu-item-has-children menu-item-388\"><a href=\"#\">Select Another Site</a>\\n<ul class=\"sub-menu\">\\n\\t<li id=\"menu-item-389\" class=\"menu-item menu-item-type-custom menu-item-object-custom menu-item-389\"><a target=\"_blank\" href=\"https://hatchshowprint.com/\">Hatch Show Print</a></li>\\n\\t<li id=\"menu-item-390\" class=\"menu-item menu-item-type-custom menu-item-object-custom menu-item-390\"><a target=\"_blank\" href=\"https://studiob.org/\">Historic RCA Studio B</a></li>\\n\\t<li id=\"menu-item-391\" class=\"menu-item menu-item-type-custom menu-item-object-custom menu-item-391\"><a target=\"_blank\" href=\"https://cmatheater.com/\">CMA Theater</a></li>\\n</ul>\\n</li>\\n</ul></div>        </div>\\n        <div class=\"mobile-nav-background\"></div>\\n\\n        <div class=\"mobile-nav-topbar\">\\n            <a class=\"mobile-nav-topbar_logo\" href=\"/\"><img src=\"https://cmhof.imgix.net/content/uploads/2019/04/11072205/cmhof-logo-round.png\"></a>        </div>\\n\\n        <div class=\"mobile-nav-hamburger\">\\n            <div class=\"burger_text\">Menu</div>\\n            <div class=\"burger\">\\n                <span></span>\\n                <span></span>\\n            </div>\\n        </div>\\n\\n        <div class=\"mobile-nav-menu\">\\n            <div class=\"mobile-nav-menu-links\">\\n                <div class=\"menu-main-navigation-container\"><ul id=\"menu-main-navigation-1\" class=\"menu\"><li id=\"menu-item-678\" class=\"menu-item menu-item-type-custom menu-item-object-custom current-menu-item current-menu-ancestor current-menu-parent menu-item-has-children menu-item-678\"><a href=\"/hall-of-fame/members/\" aria-current=\"page\">Hall of Fame</a>\\n<ul class=\"sub-menu\">\\n\\t<li id=\"menu-item-40\" class=\"menu-item menu-item-type-post_type menu-item-object-page current-menu-item page_item page-item-12 current_page_item menu-item-40\"><a href=\"https://countrymusichalloffame.org/hall-of-fame/members/\" aria-current=\"page\">Members</a></li>\\n\\t<li id=\"menu-item-7485\" class=\"menu-item menu-item-type-post_type menu-item-object-page menu-item-7485\"><a href=\"https://countrymusichalloffame.org/hall-of-fame/hall-of-fame-rotunda/induction-ceremony-medallion/\">Induction: Medallion Ceremony</a></li>\\n\\t<li id=\"menu-item-7483\" class=\"menu-item menu-item-type-post_type menu-item-object-page menu-item-7483\"><a href=\"https://countrymusichalloffame.org/hall-of-fame/hall-of-fame-rotunda/election-process/\">Election Process</a></li>\\n\\t<li id=\"menu-item-39\" class=\"menu-item menu-item-type-post_type menu-item-object-page menu-item-has-children menu-item-39\"><a href=\"https://countrymusichalloffame.org/hall-of-fame/hall-of-fame-rotunda/\">Hall of Fame Rotunda</a>\\n\\t<ul class=\"sub-menu\">\\n\\t\\t<li id=\"menu-item-12695\" class=\"menu-item menu-item-type-post_type menu-item-object-page menu-item-12695\"><a href=\"https://countrymusichalloffame.org/architecture/\">Architecture</a></li>\\n\\t\\t<li id=\"menu-item-12589\" class=\"menu-item menu-item-type-post_type menu-item-object-page menu-item-12589\"><a href=\"https://countrymusichalloffame.org/plaques/\">Plaques</a></li>\\n\\t</ul>\\n</li>\\n\\t<li id=\"menu-item-13399\" class=\"menu-item menu-item-type-post_type menu-item-object-page menu-item-has-children menu-item-13399\"><a href=\"https://countrymusichalloffame.org/circle-guard/\">Circle Guard</a>\\n\\t<ul class=\"sub-menu\">\\n\\t\\t<li id=\"menu-item-13400\" class=\"menu-item menu-item-type-post_type menu-item-object-page menu-item-13400\"><a href=\"https://countrymusichalloffame.org/rite-of-remembrance/\">Rite of Remembrance and Salute</a></li>\\n\\t\\t<li id=\"menu-item-13401\" class=\"menu-item menu-item-type-post_type menu-item-object-page menu-item-13401\"><a href=\"https://countrymusichalloffame.org/ceremonial-stole/\">Ceremonial Stole</a></li>\\n\\t</ul>\\n</li>\\n\\t<li id=\"menu-item-16988\" class=\"menu-item menu-item-type-custom menu-item-object-custom menu-item-16988\"><a href=\"https://countrymusichalloffame.org/donate\">Support the Hall</a></li>\\n</ul>\\n</li>\\n<li id=\"menu-item-37\" class=\"menu-item menu-item-type-post_type menu-item-object-page menu-item-has-children menu-item-37\"><a href=\"https://countrymusichalloffame.org/collections/\">Collections</a>\\n<ul class=\"sub-menu\">\\n\\t<li id=\"menu-item-672\" class=\"menu-item menu-item-type-custom menu-item-object-custom menu-item-672\"><a target=\"_blank\" href=\"http://digi.countrymusichalloffame.org/\">Digital Archive</a></li>\\n\\t<li id=\"menu-item-738\" class=\"menu-item menu-item-type-post_type menu-item-object-page menu-item-738\"><a href=\"https://countrymusichalloffame.org/collections/moving-image-collection/\">Moving Image Collection</a></li>\\n\\t<li id=\"menu-item-1667\" class=\"menu-item menu-item-type-post_type menu-item-object-page menu-item-1667\"><a href=\"https://countrymusichalloffame.org/collections/bob-pinson-recorded-sound-collection/\">Bob Pinson Recorded Sound Collection</a></li>\\n\\t<li id=\"menu-item-740\" class=\"menu-item menu-item-type-post_type menu-item-object-page menu-item-740\"><a href=\"https://countrymusichalloffame.org/collections/photographs/\">Photographs</a></li>\\n\\t<li id=\"menu-item-744\" class=\"menu-item menu-item-type-custom menu-item-object-custom menu-item-744\"><a href=\"https://artsandculture.google.com/partner/country-music-hall-of-fame\">Google Arts &#038; Culture</a></li>\\n\\t<li id=\"menu-item-17951\" class=\"menu-item menu-item-type-post_type menu-item-object-page menu-item-17951\"><a href=\"https://countrymusichalloffame.org/collectionsdonations/\">Donate to the Collection</a></li>\\n</ul>\\n</li>\\n<li id=\"menu-item-41\" class=\"menu-item menu-item-type-post_type menu-item-object-page menu-item-has-children menu-item-41\"><a href=\"https://countrymusichalloffame.org/education/\">Education</a>\\n<ul class=\"sub-menu\">\\n\\t<li id=\"menu-item-43\" class=\"menu-item menu-item-type-post_type menu-item-object-page menu-item-has-children menu-item-43\"><a href=\"https://countrymusichalloffame.org/education/school-programs/\">School Programs</a>\\n\\t<ul class=\"sub-menu\">\\n\\t\\t<li id=\"menu-item-13277\" class=\"menu-item menu-item-type-custom menu-item-object-custom menu-item-13277\"><a href=\"https://countrymusichalloffame.org/plan-your-visit/field-trips/\">Plan A Field Trip</a></li>\\n\\t</ul>\\n</li>\\n\\t<li id=\"menu-item-44\" class=\"menu-item menu-item-type-post_type menu-item-object-page menu-item-44\"><a href=\"https://countrymusichalloffame.org/education/distance-learning/\">Distance &#038; Virtual Learning</a></li>\\n\\t<li id=\"menu-item-21432\" class=\"menu-item menu-item-type-custom menu-item-object-custom menu-item-21432\"><a href=\"https://countrymusichalloffame.org/wordsandmusic/\">Words &#038; Music</a></li>\\n\\t<li id=\"menu-item-21421\" class=\"menu-item menu-item-type-post_type menu-item-object-page menu-item-21421\"><a href=\"https://countrymusichalloffame.org/education/teacher-resource-portal/\">Teacher &#038; Student Resource Portal</a></li>\\n\\t<li id=\"menu-item-7492\" class=\"menu-item menu-item-type-post_type menu-item-object-page menu-item-7492\"><a href=\"https://countrymusichalloffame.org/plan-your-visit/exhibits-activities/family-youth-programs/\">Youth &#038; Family Programs</a></li>\\n\\t<li id=\"menu-item-45\" class=\"menu-item menu-item-type-post_type menu-item-object-page menu-item-45\"><a href=\"https://countrymusichalloffame.org/education/community-library-programs/\">Community &#038; Library Programs</a></li>\\n\\t<li id=\"menu-item-742\" class=\"menu-item menu-item-type-post_type menu-item-object-page menu-item-742\"><a href=\"https://countrymusichalloffame.org/education/instruments/\">Instruments</a></li>\\n</ul>\\n</li>\\n<li id=\"menu-item-48\" class=\"menu-item menu-item-type-post_type menu-item-object-page menu-item-has-children menu-item-48\"><a href=\"https://countrymusichalloffame.org/watch-listen/\">Watch &#038; Listen</a>\\n<ul class=\"sub-menu\">\\n\\t<li id=\"menu-item-21275\" class=\"menu-item menu-item-type-custom menu-item-object-custom menu-item-21275\"><a href=\"https://watch.countrymusichalloffame.org/browse\">Videos</a></li>\\n\\t<li id=\"menu-item-72\" class=\"menu-item menu-item-type-post_type menu-item-object-page menu-item-72\"><a href=\"https://countrymusichalloffame.org/podcasts/\">Podcasts</a></li>\\n</ul>\\n</li>\\n<li id=\"menu-item-46\" class=\"hide-item menu-item menu-item-type-post_type menu-item-object-page menu-item-has-children menu-item-46\"><a href=\"https://countrymusichalloffame.org/plan-your-visit/\">Plan Your Visit</a>\\n<ul class=\"sub-menu\">\\n\\t<li id=\"menu-item-18020\" class=\"menu-item menu-item-type-post_type menu-item-object-page menu-item-18020\"><a href=\"https://countrymusichalloffame.org/covid-19-policies-and-procedures/\">COVID-19 Policies and Procedures</a></li>\\n\\t<li id=\"menu-item-21127\" class=\"menu-item menu-item-type-post_type menu-item-object-page menu-item-21127\"><a href=\"https://countrymusichalloffame.org/museum-policies-accessibility-faq/\">Policies, Accessibility &#038; FAQ</a></li>\\n\\t<li id=\"menu-item-9227\" class=\"menu-item menu-item-type-post_type menu-item-object-page menu-item-9227\"><a href=\"https://countrymusichalloffame.org/current-exhibits/\">Current Exhibits</a></li>\\n\\t<li id=\"menu-item-7490\" class=\"menu-item menu-item-type-custom menu-item-object-custom menu-item-7490\"><a href=\"https://countrymusichalloffame.org/plan-your-visit/exhibits-activities/calendar/\">Calendar</a></li>\\n\\t<li id=\"menu-item-2081\" class=\"menu-item menu-item-type-custom menu-item-object-custom menu-item-2081\"><a href=\"https://cmhof.imgix.net/content/uploads/2020/08/MUS_OnProp_ReOpening_Maps_20_Rev.pdf\">Download Visitor&#8217;s Guide</a></li>\\n\\t<li id=\"menu-item-7234\" class=\"menu-item menu-item-type-post_type menu-item-object-page menu-item-7234\"><a href=\"https://countrymusichalloffame.org/community-counts-2/\">Locals Admission</a></li>\\n\\t<li id=\"menu-item-544\" class=\"menu-item menu-item-type-post_type menu-item-object-page menu-item-544\"><a href=\"https://countrymusichalloffame.org/plan-your-visit/international-visitors/\">International Visitors</a></li>\\n\\t<li id=\"menu-item-13079\" class=\"menu-item menu-item-type-custom menu-item-object-custom menu-item-13079\"><a href=\"https://countrymusichalloffame.org/plan-your-visit/exhibits-activities/family-youth-programs/\">Youth &#038; Family Programs</a></li>\\n\\t<li id=\"menu-item-7491\" class=\"menu-item menu-item-type-post_type menu-item-object-page menu-item-7491\"><a href=\"https://countrymusichalloffame.org/plan-your-visit/exhibits-activities/public-programs/\">Public Programs</a></li>\\n\\t<li id=\"menu-item-543\" class=\"menu-item menu-item-type-post_type menu-item-object-page menu-item-543\"><a href=\"https://countrymusichalloffame.org/plan-your-visit/hours-directions-parking/\">Hours, Directions &#038; Parking</a></li>\\n\\t<li id=\"menu-item-546\" class=\"menu-item menu-item-type-post_type menu-item-object-page menu-item-546\"><a href=\"https://countrymusichalloffame.org/plan-your-visit/shopping-dining/\">Shopping &#038; Dining</a></li>\\n\\t<li id=\"menu-item-541\" class=\"menu-item menu-item-type-post_type menu-item-object-page menu-item-541\"><a href=\"https://countrymusichalloffame.org/plan-your-visit/group-tours/\">Group Tours</a></li>\\n\\t<li id=\"menu-item-540\" class=\"menu-item menu-item-type-post_type menu-item-object-page menu-item-540\"><a href=\"https://countrymusichalloffame.org/plan-your-visit/field-trips/\">Field Trips</a></li>\\n\\t<li id=\"menu-item-573\" class=\"menu-item menu-item-type-custom menu-item-object-custom menu-item-573\"><a href=\"https://reservations.arestravel.com/site/welcome/9509/lodging\">Hotel Packages</a></li>\\n</ul>\\n</li>\\n<li id=\"menu-item-19266\" class=\"menu-item menu-item-type-custom menu-item-object-custom menu-item-19266\"><a href=\"https://shop.countrymusichalloffame.org/\">Shop</a></li>\\n<li id=\"menu-item-16989\" class=\"menu-item menu-item-type-custom menu-item-object-custom menu-item-16989\"><a href=\"https://secure.countrymusichalloffame.org/donate/q/donate\">Donate</a></li>\\n<li id=\"menu-item-47\" class=\"action-nav-item hide-item menu-item menu-item-type-post_type menu-item-object-page menu-item-47\"><a href=\"https://countrymusichalloffame.org/buy-tickets/\">Buy Tickets</a></li>\\n</ul></div>\\n                                    <div class=\"mobile-member-links\">\\n                        <div class=\"menu-member-navigation-secondary-container\"><ul id=\"menu-member-navigation-secondary\" class=\"menu\"><li id=\"menu-item-11459\" class=\"menu-item menu-item-type-post_type menu-item-object-page menu-item-11459\"><a href=\"https://countrymusichalloffame.org/plan-your-visit/\">Plan Your Visit</a></li>\\n<li id=\"menu-item-19604\" class=\"menu-item menu-item-type-post_type menu-item-object-page menu-item-19604\"><a href=\"https://countrymusichalloffame.org/venue-rental/\">Venue Rental</a></li>\\n</ul></div>                    </div>\\n                \\n                                    <div class=\"mobile-member-links\">\\n                        <div class=\"menu-member-navigation-container\"><ul id=\"menu-member-navigation-1\" class=\"menu\"><li id=\"menu-item-392\" class=\"menu-item menu-item-type-custom menu-item-object-custom menu-item-392\"><a href=\"/support/membership/\">Become a Museum Member</a></li>\\n<li id=\"menu-item-393\" class=\"menu-item menu-item-type-custom menu-item-object-custom menu-item-393\"><a href=\"/tickets-sign-in\">Museum Member Log In</a></li>\\n</ul></div>                    </div>\\n                                <div class=\"mobile-search-input\">\\n                    <form method=\"get\" role=\"search\" action=\"https://countrymusichalloffame.org/\" title=\"Type and press Enter to search.\">\\n                        <input type=\"search\" class=\"fl-search-input form-control\" name=\"s\" value=\"Search\" onfocus=\"if (this.value == \\'Search\\') { this.value = \\'\\'; }\" onblur=\"if (this.value == \\'\\') this.value=\\'Search\\';\" />\\n                    </form>\\n                </div>\\n\\n            </div>\\n        </div>\\n    </div>\\n\\n    <div class=\"mobile-sticky-nav-container\">\\n        <div class=\"menu-mobile-sticky-navigation-container\"><ul id=\"menu-mobile-sticky-navigation\" class=\"menu\"><li id=\"menu-item-396\" class=\"menu-item menu-item-type-post_type menu-item-object-page menu-item-396\"><a href=\"https://countrymusichalloffame.org/plan-your-visit/\">Plan Your Visit</a></li>\\n<li id=\"menu-item-397\" class=\"menu-item menu-item-type-custom menu-item-object-custom menu-item-397\"><a target=\"_blank\" href=\"https://shop.countrymusichalloffame.org\">Shop</a></li>\\n<li id=\"menu-item-6277\" class=\"action-nav-item menu-item menu-item-type-custom menu-item-object-custom menu-item-6277\"><a href=\"https://countrymusichalloffame.org/buy-tickets/\">Buy Tickets</a></li>\\n</ul></div>    </div>\\n    <!-- End Mobile Nav For Main Site-->\\n\\n\\n    \\t<div class=\"fl-page-content\" itemprop=\"mainContentOfPage\">\\n\\n\\t\\t\\n<div class=\"fl-content-full container\">\\n\\t<div class=\"row\">\\n\\t\\t<div class=\"fl-content col-md-12\">\\n\\t\\t\\t<article class=\"fl-post post-12 page type-page status-publish hentry\" id=\"fl-post-12\" itemscope=\"itemscope\" itemtype=\"https://schema.org/CreativeWork\">\\n\\n\\t\\t\\t<div class=\"fl-post-content clearfix\" itemprop=\"text\">\\n\\t\\t\\n\\t\\t\\t<div class=\"fl-builder-content fl-builder-content-12 fl-builder-content-primary fl-builder-global-templates-locked\" data-post-id=\"12\"><div class=\"fl-row fl-row-full-width fl-row-bg-none fl-node-5c919a03d1f54 fbyf-mixed-content-hero-wrapper\" data-node=\"5c919a03d1f54\">\\n\\t<div class=\"fl-row-content-wrap\">\\n\\t\\t\\t\\t\\t\\t<div class=\"fl-row-content fl-row-fixed-width fl-node-content\">\\n\\t\\t\\n<div class=\"fl-col-group fl-node-5c919a03d1f59\" data-node=\"5c919a03d1f59\">\\n\\t\\t\\t<div class=\"fl-col fl-node-5c919a03d1f5b fl-col-has-cols\" data-node=\"5c919a03d1f5b\">\\n\\t<div class=\"fl-col-content fl-node-content\">\\n\\t<div class=\"fl-module fl-module-fbyf-mixed-content-hero fl-node-5c919a03d1f5d\" data-node=\"5c919a03d1f5d\">\\n\\t<div class=\"fl-module-content fl-node-content\">\\n\\t\\t<div class=\"fbyf-mixed-content-hero-wrapper\"> \\n    <div class=\"mixed-content-hero\">\\n                    <div class=\"hero-left\">\\n                <div class=\"fl-rich-text detail-wrapper\"> \\n                                        \\n                    <h1>Members</h1>\\n\\n                                            <div class=\"content-wrapper\">\\n                            <p><p>Election to the Country Music Hall of Fame is country music\\'s highest honor. The\\xc2\\xa0Country Music Association\\xc2\\xa0(CMA), the country music industry\\'s trade organization, created the accolade to recognize significant contributions to the advancement of country music by individuals in both the creative and business communities. The first members\\xe2\\x80\\x94Jimmie Rodgers, Fred Rose, and Hank Williams\\xe2\\x80\\x94were inducted in 1961.</p></p>\\n                        </div>\\n                    \\n                </div>\\n            </div>\\n\\n            <div class=\"hero-right\">\\n                <img src=\"https://cmhof.imgix.net/content/uploads/2019/04/CMHOF-PressReleases_Members-Header3.jpg\">\\n            </div>\\n            </div>\\n</div>\\n\\n\\t</div>\\n</div>\\n\\n<div class=\"fl-col-group fl-node-5f060fd33fbcf fl-col-group-nested\" data-node=\"5f060fd33fbcf\">\\n\\t\\t\\t<div class=\"fl-col fl-node-5f060fd33fc5a\" data-node=\"5f060fd33fc5a\">\\n\\t<div class=\"fl-col-content fl-node-content\">\\n\\t\\t</div>\\n</div>\\n\\t</div>\\n\\t</div>\\n</div>\\n\\t</div>\\n\\t\\t</div>\\n\\t</div>\\n</div>\\n<div class=\"fl-row fl-row-full-width fl-row-bg-none fl-node-5d41b5ae4a7d0\" data-node=\"5d41b5ae4a7d0\">\\n\\t<div class=\"fl-row-content-wrap\">\\n\\t\\t\\t\\t\\t\\t<div class=\"fl-row-content fl-row-fixed-width fl-node-content\">\\n\\t\\t\\n<div class=\"fl-col-group fl-node-5d41b5ae51886\" data-node=\"5d41b5ae51886\">\\n\\t\\t\\t<div class=\"fl-col fl-node-5d41b5ae5191f\" data-node=\"5d41b5ae5191f\">\\n\\t<div class=\"fl-col-content fl-node-content\">\\n\\t\\t</div>\\n</div>\\n\\t</div>\\n\\t\\t</div>\\n\\t</div>\\n</div>\\n<div class=\"fl-row fl-row-full-width fl-row-bg-none fl-node-5f06103dc89cb\" data-node=\"5f06103dc89cb\">\\n\\t<div class=\"fl-row-content-wrap\">\\n\\t\\t\\t\\t\\t\\t<div class=\"fl-row-content fl-row-fixed-width fl-node-content\">\\n\\t\\t\\n<div class=\"fl-col-group fl-node-5f06103dd2136\" data-node=\"5f06103dd2136\">\\n\\t\\t\\t<div class=\"fl-col fl-node-5f06103dd21c2\" data-node=\"5f06103dd21c2\">\\n\\t<div class=\"fl-col-content fl-node-content\">\\n\\t\\t</div>\\n</div>\\n\\t</div>\\n\\t\\t</div>\\n\\t</div>\\n</div>\\n<div class=\"fl-row fl-row-full-width fl-row-bg-none fl-node-5f061031d0fb8\" data-node=\"5f061031d0fb8\">\\n\\t<div class=\"fl-row-content-wrap\">\\n\\t\\t\\t\\t\\t\\t<div class=\"fl-row-content fl-row-fixed-width fl-node-content\">\\n\\t\\t\\n<div class=\"fl-col-group fl-node-5f061031da50a\" data-node=\"5f061031da50a\">\\n\\t\\t\\t<div class=\"fl-col fl-node-5f061031da5b0\" data-node=\"5f061031da5b0\">\\n\\t<div class=\"fl-col-content fl-node-content\">\\n\\t\\t</div>\\n</div>\\n\\t</div>\\n\\t\\t</div>\\n\\t</div>\\n</div>\\n<div class=\"fl-row fl-row-full-width fl-row-bg-none fl-node-5f061022812f9\" data-node=\"5f061022812f9\">\\n\\t<div class=\"fl-row-content-wrap\">\\n\\t\\t\\t\\t\\t\\t<div class=\"fl-row-content fl-row-fixed-width fl-node-content\">\\n\\t\\t\\n<div class=\"fl-col-group fl-node-5f061022896c0\" data-node=\"5f061022896c0\">\\n\\t\\t\\t<div class=\"fl-col fl-node-5f0610228974e\" data-node=\"5f0610228974e\">\\n\\t<div class=\"fl-col-content fl-node-content\">\\n\\t\\t</div>\\n</div>\\n\\t</div>\\n\\t\\t</div>\\n\\t</div>\\n</div>\\n<div class=\"fl-row fl-row-full-width fl-row-bg-none fl-node-5f06101f7a0fa\" data-node=\"5f06101f7a0fa\">\\n\\t<div class=\"fl-row-content-wrap\">\\n\\t\\t\\t\\t\\t\\t<div class=\"fl-row-content fl-row-fixed-width fl-node-content\">\\n\\t\\t\\n<div class=\"fl-col-group fl-node-5f06101f8216b\" data-node=\"5f06101f8216b\">\\n\\t\\t\\t<div class=\"fl-col fl-node-5f06101f821f6\" data-node=\"5f06101f821f6\">\\n\\t<div class=\"fl-col-content fl-node-content\">\\n\\t\\t</div>\\n</div>\\n\\t</div>\\n\\t\\t</div>\\n\\t</div>\\n</div>\\n<div class=\"fl-row fl-row-full-width fl-row-bg-none fl-node-5f060faa133bb\" data-node=\"5f060faa133bb\">\\n\\t<div class=\"fl-row-content-wrap\">\\n\\t\\t\\t\\t\\t\\t<div class=\"fl-row-content fl-row-fixed-width fl-node-content\">\\n\\t\\t\\n<div class=\"fl-col-group fl-node-5f060faa1a508\" data-node=\"5f060faa1a508\">\\n\\t\\t\\t<div class=\"fl-col fl-node-5f060faa1a599 fl-col-has-cols\" data-node=\"5f060faa1a599\">\\n\\t<div class=\"fl-col-content fl-node-content\">\\n\\t<div class=\"fl-module fl-module-rich-text fl-node-5f060fb1c3041\" data-node=\"5f060fb1c3041\">\\n\\t<div class=\"fl-module-content fl-node-content\">\\n\\t\\t<div class=\"fl-rich-text\">\\n\\t<p><strong>Interested in supporting the Museum through our Annual Fund or interested in Museum member benefits?</strong></p>\\n</div>\\n\\t</div>\\n</div>\\n\\n<div class=\"fl-col-group fl-node-5f060fd7edf56 fl-col-group-nested\" data-node=\"5f060fd7edf56\">\\n\\t\\t\\t<div class=\"fl-col fl-node-5f060fd7ee04a fl-col-small\" data-node=\"5f060fd7ee04a\">\\n\\t<div class=\"fl-col-content fl-node-content\">\\n\\t<div class=\"fl-module fl-module-fbyf-button-module fl-node-5f060fe578e0b\" data-node=\"5f060fe578e0b\">\\n\\t<div class=\"fl-module-content fl-node-content\">\\n\\t\\t<div class=\"fbyf-button-module\"> \\n    \\n    <!-- Single regular button -->\\n           \\n        \\n                                    <div class=\"fbyf-btn-wrapper inline-button inline-button_centered\"> \\n                    <a href=\"https://secure.countrymusichalloffame.org/donate/q/donate\"> Donate</a>\\n                </div>\\n                    \\n    \\n    <!-- Inline regular buttons -->\\n    \\n    <!-- Single text button -->\\n    \\n    <!-- Inline text button -->\\n    </div>\\n\\t</div>\\n</div>\\n\\t</div>\\n</div>\\n\\t\\t\\t<div class=\"fl-col fl-node-5f060fd7ee050 fl-col-small\" data-node=\"5f060fd7ee050\">\\n\\t<div class=\"fl-col-content fl-node-content\">\\n\\t<div class=\"fl-module fl-module-fbyf-button-module fl-node-5f061001b7e36\" data-node=\"5f061001b7e36\">\\n\\t<div class=\"fl-module-content fl-node-content\">\\n\\t\\t<div class=\"fbyf-button-module\"> \\n    \\n    <!-- Single regular button -->\\n           \\n        \\n                                    <div class=\"fbyf-btn-wrapper inline-button inline-button_centered\"> \\n                    <a href=\"https://countrymusichalloffame.org/support/membership/general-membership/\"> Become a Museum Member</a>\\n                </div>\\n                    \\n    \\n    <!-- Inline regular buttons -->\\n    \\n    <!-- Single text button -->\\n    \\n    <!-- Inline text button -->\\n    </div>\\n\\t</div>\\n</div>\\n\\t</div>\\n</div>\\n\\t</div>\\n\\t</div>\\n</div>\\n\\t</div>\\n\\t\\t</div>\\n\\t</div>\\n</div>\\n<div class=\"fl-row fl-row-full-width fl-row-bg-none fl-node-5c939be1e129d\" data-node=\"5c939be1e129d\">\\n\\t<div class=\"fl-row-content-wrap\">\\n\\t\\t\\t\\t\\t\\t<div class=\"fl-row-content fl-row-full-width fl-node-content\">\\n\\t\\t\\n<div class=\"fl-col-group fl-node-5c939be1e37f6\" data-node=\"5c939be1e37f6\">\\n\\t\\t\\t<div class=\"fl-col fl-node-5c939be1e3899\" data-node=\"5c939be1e3899\">\\n\\t<div class=\"fl-col-content fl-node-content\">\\n\\t<div class=\"fl-module fl-module-html fl-node-5c939be1e1065\" data-node=\"5c939be1e1065\">\\n\\t<div class=\"fl-module-content fl-node-content\">\\n\\t\\t<div class=\"fl-html\">\\n\\t\\n    <!-- Card Grid Container -->\\n    <div class=\"vertical-cards-container\">\\n    \\n      <!-- Artist Search -->\\n      <div style=\"width: 100%;\">\\n          <div class=\"custom-search\">\\n    <form method=\"get\" role=\"search\" action=\"https://countrymusichalloffame.org/\" title=\"Type and press Enter to search.\">\\n      <input type=\"search\" class=\"fl-search-input form-control\" name=\"s\" value=\"Search\" onfocus=\"if (this.value == \\'Search\\') { this.value = \\'\\'; }\" onblur=\"if (this.value == \\'\\') this.value=\\'Search\\';\" />\\n        <input type=\"hidden\" name=\"post_type\" value=\"artist\" />\\n    </form>\\n  </div>\\n      </div>\\n    \\n                \\n        <!-- Single Card -->\\n        <a href=\" https://countrymusichalloffame.org/artist/roy-acuff/ \">\\n          <div class=\"vertical-cards-col\">\\n            <div class=\"vertical-card\">\\n              <div class=\"vertical-card_image\">\\n                                  <div class=\"vertical-card_image-container\" style=\"background: url(\\'https://cmhof.imgix.net/content/uploads/2019/03/11072232/Acuff_Roy.jpg\\');\"></div>\\n                              </div>\\n              <div class=\"vertical-card_content\">\\n                <div class=\"vertical-card_content--title\">\\n                  <h3>Roy Acuff</h3>\\n                </div>\\n                <div class=\"vertical-card_content--copy\">\\n                  <p>\\n                    Inducted 1962                  </p>\\n                </div>\\n                <div class=\"fbyf-btn-wrapper inline-text\"> \\n                  <a href=\"https://countrymusichalloffame.org/artist/roy-acuff/\"> \\n                    <span>Learn More</span>\\n                    <svg width=\"15px\" height=\"15px\" viewBox=\"0 0 15 15\" version=\"1.1\" xmlns=\"http://www.w3.org/2000/svg\" xmlns:xlink=\"http://www.w3.org/1999/xlink\">\\n                      <g id=\"Symbols\" stroke=\"none\" stroke-width=\"1\" fill=\"none\" fill-rule=\"evenodd\">\\n                        <g id=\"Icon/CMHOF/arrow-right\">\\n                            <rect id=\"Rectangle\" x=\"0\" y=\"0\" width=\"15\" height=\"15\"></rect>\\n                            <polygon id=\"Fill-1\" fill=\"#F0B23A\" points=\"8.59732882 13.03125 8.59732882 9.79762459 2 9.79762459 2 4.25168919 8.59732882 4.25168919 8.59732882 1 13.96875 7.01562616\"></polygon>\\n                        </g>\\n                      </g>\\n                    </svg>\\n                  </a>\\n                </div>\\n              </div>\\n            </div>\\n          </div>\\n        </a>\\n        <!-- End Single Card -->\\n\\n                \\n        <!-- Single Card -->\\n        <a href=\" https://countrymusichalloffame.org/artist/alabama/ \">\\n          <div class=\"vertical-cards-col\">\\n            <div class=\"vertical-card\">\\n              <div class=\"vertical-card_image\">\\n                                  <div class=\"vertical-card_image-container\" style=\"background: url(\\'https://cmhof.imgix.net/content/uploads/2019/03/11072214/Alabama.jpg\\');\"></div>\\n                              </div>\\n              <div class=\"vertical-card_content\">\\n                <div class=\"vertical-card_content--title\">\\n                  <h3>Alabama</h3>\\n                </div>\\n                <div class=\"vertical-card_content--copy\">\\n                  <p>\\n                    Inducted 2005                  </p>\\n                </div>\\n                <div class=\"fbyf-btn-wrapper inline-text\"> \\n                  <a href=\"https://countrymusichalloffame.org/artist/alabama/\"> \\n                    <span>Learn More</span>\\n                    <svg width=\"15px\" height=\"15px\" viewBox=\"0 0 15 15\" version=\"1.1\" xmlns=\"http://www.w3.org/2000/svg\" xmlns:xlink=\"http://www.w3.org/1999/xlink\">\\n                      <g id=\"Symbols\" stroke=\"none\" stroke-width=\"1\" fill=\"none\" fill-rule=\"evenodd\">\\n                        <g id=\"Icon/CMHOF/arrow-right\">\\n                            <rect id=\"Rectangle\" x=\"0\" y=\"0\" width=\"15\" height=\"15\"></rect>\\n                            <polygon id=\"Fill-1\" fill=\"#F0B23A\" points=\"8.59732882 13.03125 8.59732882 9.79762459 2 9.79762459 2 4.25168919 8.59732882 4.25168919 8.59732882 1 13.96875 7.01562616\"></polygon>\\n                        </g>\\n                      </g>\\n                    </svg>\\n                  </a>\\n                </div>\\n              </div>\\n            </div>\\n          </div>\\n        </a>\\n        <!-- End Single Card -->\\n\\n                \\n        <!-- Single Card -->\\n        <a href=\" https://countrymusichalloffame.org/artist/bill-anderson/ \">\\n          <div class=\"vertical-cards-col\">\\n            <div class=\"vertical-card\">\\n              <div class=\"vertical-card_image\">\\n                                  <div class=\"vertical-card_image-container\" style=\"background: url(\\'https://cmhof.imgix.net/content/uploads/2019/03/11072215/Anderson_Bill.jpg\\');\"></div>\\n                              </div>\\n              <div class=\"vertical-card_content\">\\n                <div class=\"vertical-card_content--title\">\\n                  <h3>Bill Anderson</h3>\\n                </div>\\n                <div class=\"vertical-card_content--copy\">\\n                  <p>\\n                    Inducted 2001                  </p>\\n                </div>\\n                <div class=\"fbyf-btn-wrapper inline-text\"> \\n                  <a href=\"https://countrymusichalloffame.org/artist/bill-anderson/\"> \\n                    <span>Learn More</span>\\n                    <svg width=\"15px\" height=\"15px\" viewBox=\"0 0 15 15\" version=\"1.1\" xmlns=\"http://www.w3.org/2000/svg\" xmlns:xlink=\"http://www.w3.org/1999/xlink\">\\n                      <g id=\"Symbols\" stroke=\"none\" stroke-width=\"1\" fill=\"none\" fill-rule=\"evenodd\">\\n                        <g id=\"Icon/CMHOF/arrow-right\">\\n                            <rect id=\"Rectangle\" x=\"0\" y=\"0\" width=\"15\" height=\"15\"></rect>\\n                            <polygon id=\"Fill-1\" fill=\"#F0B23A\" points=\"8.59732882 13.03125 8.59732882 9.79762459 2 9.79762459 2 4.25168919 8.59732882 4.25168919 8.59732882 1 13.96875 7.01562616\"></polygon>\\n                        </g>\\n                      </g>\\n                    </svg>\\n                  </a>\\n                </div>\\n              </div>\\n            </div>\\n          </div>\\n        </a>\\n        <!-- End Single Card -->\\n\\n                \\n        <!-- Single Card -->\\n        <a href=\" https://countrymusichalloffame.org/artist/eddy-arnold/ \">\\n          <div class=\"vertical-cards-col\">\\n            <div class=\"vertical-card\">\\n              <div class=\"vertical-card_image\">\\n                                  <div class=\"vertical-card_image-container\" style=\"background: url(\\'https://cmhof.imgix.net/content/uploads/2019/03/11072215/Arnold_Eddy.jpg\\');\"></div>\\n                              </div>\\n              <div class=\"vertical-card_content\">\\n                <div class=\"vertical-card_content--title\">\\n                  <h3>Eddy Arnold</h3>\\n                </div>\\n                <div class=\"vertical-card_content--copy\">\\n                  <p>\\n                    Inducted 1966                  </p>\\n                </div>\\n                <div class=\"fbyf-btn-wrapper inline-text\"> \\n                  <a href=\"https://countrymusichalloffame.org/artist/eddy-arnold/\"> \\n                    <span>Learn More</span>\\n                    <svg width=\"15px\" height=\"15px\" viewBox=\"0 0 15 15\" version=\"1.1\" xmlns=\"http://www.w3.org/2000/svg\" xmlns:xlink=\"http://www.w3.org/1999/xlink\">\\n                      <g id=\"Symbols\" stroke=\"none\" stroke-width=\"1\" fill=\"none\" fill-rule=\"evenodd\">\\n                        <g id=\"Icon/CMHOF/arrow-right\">\\n                            <rect id=\"Rectangle\" x=\"0\" y=\"0\" width=\"15\" height=\"15\"></rect>\\n                            <polygon id=\"Fill-1\" fill=\"#F0B23A\" points=\"8.59732882 13.03125 8.59732882 9.79762459 2 9.79762459 2 4.25168919 8.59732882 4.25168919 8.59732882 1 13.96875 7.01562616\"></polygon>\\n                        </g>\\n                      </g>\\n                    </svg>\\n                  </a>\\n                </div>\\n              </div>\\n            </div>\\n          </div>\\n        </a>\\n        <!-- End Single Card -->\\n\\n                \\n        <!-- Single Card -->\\n        <a href=\" https://countrymusichalloffame.org/artist/chet-atkins/ \">\\n          <div class=\"vertical-cards-col\">\\n            <div class=\"vertical-card\">\\n              <div class=\"vertical-card_image\">\\n                                  <div class=\"vertical-card_image-container\" style=\"background: url(\\'https://cmhof.imgix.net/content/uploads/2019/03/11072216/Atkins_Chet.jpg\\');\"></div>\\n                              </div>\\n              <div class=\"vertical-card_content\">\\n                <div class=\"vertical-card_content--title\">\\n                  <h3>Chet Atkins</h3>\\n                </div>\\n                <div class=\"vertical-card_content--copy\">\\n                  <p>\\n                    Inducted 1973                  </p>\\n                </div>\\n                <div class=\"fbyf-btn-wrapper inline-text\"> \\n                  <a href=\"https://countrymusichalloffame.org/artist/chet-atkins/\"> \\n                    <span>Learn More</span>\\n                    <svg width=\"15px\" height=\"15px\" viewBox=\"0 0 15 15\" version=\"1.1\" xmlns=\"http://www.w3.org/2000/svg\" xmlns:xlink=\"http://www.w3.org/1999/xlink\">\\n                      <g id=\"Symbols\" stroke=\"none\" stroke-width=\"1\" fill=\"none\" fill-rule=\"evenodd\">\\n                        <g id=\"Icon/CMHOF/arrow-right\">\\n                            <rect id=\"Rectangle\" x=\"0\" y=\"0\" width=\"15\" height=\"15\"></rect>\\n                            <polygon id=\"Fill-1\" fill=\"#F0B23A\" points=\"8.59732882 13.03125 8.59732882 9.79762459 2 9.79762459 2 4.25168919 8.59732882 4.25168919 8.59732882 1 13.96875 7.01562616\"></polygon>\\n                        </g>\\n                      </g>\\n                    </svg>\\n                  </a>\\n                </div>\\n              </div>\\n            </div>\\n          </div>\\n        </a>\\n        <!-- End Single Card -->\\n\\n                \\n        <!-- Single Card -->\\n        <a href=\" https://countrymusichalloffame.org/artist/gene-autry/ \">\\n          <div class=\"vertical-cards-col\">\\n            <div class=\"vertical-card\">\\n              <div class=\"vertical-card_image\">\\n                                  <div class=\"vertical-card_image-container\" style=\"background: url(\\'https://cmhof.imgix.net/content/uploads/2019/03/11072216/Autry_Gene.jpg\\');\"></div>\\n                              </div>\\n              <div class=\"vertical-card_content\">\\n                <div class=\"vertical-card_content--title\">\\n                  <h3>Gene Autry</h3>\\n                </div>\\n                <div class=\"vertical-card_content--copy\">\\n                  <p>\\n                    Inducted 1969                  </p>\\n                </div>\\n                <div class=\"fbyf-btn-wrapper inline-text\"> \\n                  <a href=\"https://countrymusichalloffame.org/artist/gene-autry/\"> \\n                    <span>Learn More</span>\\n                    <svg width=\"15px\" height=\"15px\" viewBox=\"0 0 15 15\" version=\"1.1\" xmlns=\"http://www.w3.org/2000/svg\" xmlns:xlink=\"http://www.w3.org/1999/xlink\">\\n                      <g id=\"Symbols\" stroke=\"none\" stroke-width=\"1\" fill=\"none\" fill-rule=\"evenodd\">\\n                        <g id=\"Icon/CMHOF/arrow-right\">\\n                            <rect id=\"Rectangle\" x=\"0\" y=\"0\" width=\"15\" height=\"15\"></rect>\\n                            <polygon id=\"Fill-1\" fill=\"#F0B23A\" points=\"8.59732882 13.03125 8.59732882 9.79762459 2 9.79762459 2 4.25168919 8.59732882 4.25168919 8.59732882 1 13.96875 7.01562616\"></polygon>\\n                        </g>\\n                      </g>\\n                    </svg>\\n                  </a>\\n                </div>\\n              </div>\\n            </div>\\n          </div>\\n        </a>\\n        <!-- End Single Card -->\\n\\n                \\n        <!-- Single Card -->\\n        <a href=\" https://countrymusichalloffame.org/artist/deford-bailey/ \">\\n          <div class=\"vertical-cards-col\">\\n            <div class=\"vertical-card\">\\n              <div class=\"vertical-card_image\">\\n                                  <div class=\"vertical-card_image-container\" style=\"background: url(\\'https://cmhof.imgix.net/content/uploads/2019/03/11072217/Bailey_DeFord.jpg\\');\"></div>\\n                              </div>\\n              <div class=\"vertical-card_content\">\\n                <div class=\"vertical-card_content--title\">\\n                  <h3>DeFord Bailey</h3>\\n                </div>\\n                <div class=\"vertical-card_content--copy\">\\n                  <p>\\n                    Inducted 2005                  </p>\\n                </div>\\n                <div class=\"fbyf-btn-wrapper inline-text\"> \\n                  <a href=\"https://countrymusichalloffame.org/artist/deford-bailey/\"> \\n                    <span>Learn More</span>\\n                    <svg width=\"15px\" height=\"15px\" viewBox=\"0 0 15 15\" version=\"1.1\" xmlns=\"http://www.w3.org/2000/svg\" xmlns:xlink=\"http://www.w3.org/1999/xlink\">\\n                      <g id=\"Symbols\" stroke=\"none\" stroke-width=\"1\" fill=\"none\" fill-rule=\"evenodd\">\\n                        <g id=\"Icon/CMHOF/arrow-right\">\\n                            <rect id=\"Rectangle\" x=\"0\" y=\"0\" width=\"15\" height=\"15\"></rect>\\n                            <polygon id=\"Fill-1\" fill=\"#F0B23A\" points=\"8.59732882 13.03125 8.59732882 9.79762459 2 9.79762459 2 4.25168919 8.59732882 4.25168919 8.59732882 1 13.96875 7.01562616\"></polygon>\\n                        </g>\\n                      </g>\\n                    </svg>\\n                  </a>\\n                </div>\\n              </div>\\n            </div>\\n          </div>\\n        </a>\\n        <!-- End Single Card -->\\n\\n                \\n        <!-- Single Card -->\\n        <a href=\" https://countrymusichalloffame.org/artist/bobby-bare/ \">\\n          <div class=\"vertical-cards-col\">\\n            <div class=\"vertical-card\">\\n              <div class=\"vertical-card_image\">\\n                                  <div class=\"vertical-card_image-container\" style=\"background: url(\\'https://cmhof.imgix.net/content/uploads/2019/03/11072217/Bare_Bobby.jpg\\');\"></div>\\n                              </div>\\n              <div class=\"vertical-card_content\">\\n                <div class=\"vertical-card_content--title\">\\n                  <h3>Bobby Bare</h3>\\n                </div>\\n                <div class=\"vertical-card_content--copy\">\\n                  <p>\\n                    Inducted 2013                  </p>\\n                </div>\\n                <div class=\"fbyf-btn-wrapper inline-text\"> \\n                  <a href=\"https://countrymusichalloffame.org/artist/bobby-bare/\"> \\n                    <span>Learn More</span>\\n                    <svg width=\"15px\" height=\"15px\" viewBox=\"0 0 15 15\" version=\"1.1\" xmlns=\"http://www.w3.org/2000/svg\" xmlns:xlink=\"http://www.w3.org/1999/xlink\">\\n                      <g id=\"Symbols\" stroke=\"none\" stroke-width=\"1\" fill=\"none\" fill-rule=\"evenodd\">\\n                        <g id=\"Icon/CMHOF/arrow-right\">\\n                            <rect id=\"Rectangle\" x=\"0\" y=\"0\" width=\"15\" height=\"15\"></rect>\\n                            <polygon id=\"Fill-1\" fill=\"#F0B23A\" points=\"8.59732882 13.03125 8.59732882 9.79762459 2 9.79762459 2 4.25168919 8.59732882 4.25168919 8.59732882 1 13.96875 7.01562616\"></polygon>\\n                        </g>\\n                      </g>\\n                    </svg>\\n                  </a>\\n                </div>\\n              </div>\\n            </div>\\n          </div>\\n        </a>\\n        <!-- End Single Card -->\\n\\n                \\n        <!-- Single Card -->\\n        <a href=\" https://countrymusichalloffame.org/artist/johnny-bond/ \">\\n          <div class=\"vertical-cards-col\">\\n            <div class=\"vertical-card\">\\n              <div class=\"vertical-card_image\">\\n                                  <div class=\"vertical-card_image-container\" style=\"background: url(\\'https://cmhof.imgix.net/content/uploads/2019/03/11072217/Bond_Johnny.jpg\\');\"></div>\\n                              </div>\\n              <div class=\"vertical-card_content\">\\n                <div class=\"vertical-card_content--title\">\\n                  <h3>Johnny Bond</h3>\\n                </div>\\n                <div class=\"vertical-card_content--copy\">\\n                  <p>\\n                    Inducted 1999                  </p>\\n                </div>\\n                <div class=\"fbyf-btn-wrapper inline-text\"> \\n                  <a href=\"https://countrymusichalloffame.org/artist/johnny-bond/\"> \\n                    <span>Learn More</span>\\n                    <svg width=\"15px\" height=\"15px\" viewBox=\"0 0 15 15\" version=\"1.1\" xmlns=\"http://www.w3.org/2000/svg\" xmlns:xlink=\"http://www.w3.org/1999/xlink\">\\n                      <g id=\"Symbols\" stroke=\"none\" stroke-width=\"1\" fill=\"none\" fill-rule=\"evenodd\">\\n                        <g id=\"Icon/CMHOF/arrow-right\">\\n                            <rect id=\"Rectangle\" x=\"0\" y=\"0\" width=\"15\" height=\"15\"></rect>\\n                            <polygon id=\"Fill-1\" fill=\"#F0B23A\" points=\"8.59732882 13.03125 8.59732882 9.79762459 2 9.79762459 2 4.25168919 8.59732882 4.25168919 8.59732882 1 13.96875 7.01562616\"></polygon>\\n                        </g>\\n                      </g>\\n                    </svg>\\n                  </a>\\n                </div>\\n              </div>\\n            </div>\\n          </div>\\n        </a>\\n        <!-- End Single Card -->\\n\\n          </div>\\n    <!-- End Card Grid Container -->\\n\\n  \\n    <div class=\"pagination\">\\n      <span aria-current=\\'page\\' class=\\'page-numbers current\\'>1</span>\\n<a class=\\'page-numbers\\' href=\\'https://countrymusichalloffame.org/hall-of-fame/members/page/2\\'>2</a>\\n<a class=\\'page-numbers\\' href=\\'https://countrymusichalloffame.org/hall-of-fame/members/page/3\\'>3</a>\\n<a class=\\'page-numbers\\' href=\\'https://countrymusichalloffame.org/hall-of-fame/members/page/4\\'>4</a>\\n<span class=\"page-numbers dots\">&hellip;</span>\\n<a class=\\'page-numbers\\' href=\\'https://countrymusichalloffame.org/hall-of-fame/members/page/16\\'>16</a>\\n<a class=\"next page-numbers\" href=\"https://countrymusichalloffame.org/hall-of-fame/members/page/2\">\\n          <svg width=\"15px\" height=\"15px\" viewBox=\"0 0 15 15\">\\n            <g id=\"Symbols\" stroke=\"none\" stroke-width=\"1\" fill=\"none\" fill-rule=\"evenodd\">\\n              <g id=\"Icon/CMHOF/arrow-right\">\\n                <rect id=\"Rectangle\" x=\"0\" y=\"0\" width=\"15\" height=\"15\"></rect>\\n                <polygon id=\"Fill-1\" fill=\"#F0B23A\" points=\"8.59732882 13.03125 8.59732882 9.79762459 2 9.79762459 2 4.25168919 8.59732882 4.25168919 8.59732882 1 13.96875 7.01562616\"></polygon>\\n              </g>\\n            </g>\\n          </svg>\\n        </a>    </div>\\n\\n  </div>\\n\\t</div>\\n</div>\\n\\t</div>\\n</div>\\n\\t</div>\\n\\t\\t</div>\\n\\t</div>\\n</div>\\n</div>\\t\\t\\n\\t</div><!-- .fl-post-content -->\\n\\t\\n</article>\\n\\n<!-- .fl-post -->\\n\\t\\t</div>\\n\\t</div>\\n</div>\\n\\n\\n\\t</div><!-- .fl-page-content -->\\n\\t<footer class=\"fl-builder-content fl-builder-content-152 fl-builder-global-templates-locked\" data-post-id=\"152\" itemscope=\"itemscope\" itemtype=\"http://schema.org/WPFooter\" data-type=\"footer\"><div class=\"fl-row fl-row-full-width fl-row-bg-color fl-node-5c49e3c1dcf8a footer\" data-node=\"5c49e3c1dcf8a\">\\n\\t<div class=\"fl-row-content-wrap\">\\n\\t\\t\\t\\t\\t\\t<div class=\"fl-row-content fl-row-fixed-width fl-node-content\">\\n\\t\\t\\n<div class=\"fl-col-group fl-node-5c49e3c1df754\" data-node=\"5c49e3c1df754\">\\n\\t\\t\\t<div class=\"fl-col fl-node-5c49e3c1df862 fl-col-small footer-left\" data-node=\"5c49e3c1df862\">\\n\\t<div class=\"fl-col-content fl-node-content\">\\n\\t<div class=\"fl-module fl-module-menu fl-node-5c49e64884039\" data-node=\"5c49e64884039\">\\n\\t<div class=\"fl-module-content fl-node-content\">\\n\\t\\t<div class=\"fl-menu\">\\n\\t\\t<div class=\"fl-clear\"></div>\\n\\t<nav aria-label=\"Menu\" itemscope=\"itemscope\" itemtype=\"https://schema.org/SiteNavigationElement\"><ul id=\"menu-footer-navigation\" class=\"menu fl-menu-horizontal fl-toggle-none\"><li id=\"menu-item-176\" class=\"menu-item menu-item-type-post_type menu-item-object-page\"><a href=\"https://countrymusichalloffame.org/about/\">About</a></li><li id=\"menu-item-181\" class=\"menu-item menu-item-type-post_type menu-item-object-page\"><a href=\"https://countrymusichalloffame.org/support/sponsorship/\">Sponsorship</a></li><li id=\"menu-item-178\" class=\"menu-item menu-item-type-post_type menu-item-object-page\"><a href=\"https://countrymusichalloffame.org/employment/\">Employment</a></li><li id=\"menu-item-184\" class=\"menu-item menu-item-type-post_type menu-item-object-page\"><a href=\"https://countrymusichalloffame.org/support/\">Support</a></li><li id=\"menu-item-19267\" class=\"menu-item menu-item-type-post_type menu-item-object-page\"><a href=\"https://countrymusichalloffame.org/venue-rental/\">Venue Rental</a></li><li id=\"menu-item-183\" class=\"menu-item menu-item-type-post_type menu-item-object-page\"><a href=\"https://countrymusichalloffame.org/support/volunteer/\">Volunteer</a></li><li id=\"menu-item-177\" class=\"menu-item menu-item-type-post_type menu-item-object-page\"><a href=\"https://countrymusichalloffame.org/contact/\">Contact</a></li><li id=\"menu-item-180\" class=\"menu-item menu-item-type-post_type menu-item-object-page\"><a href=\"https://countrymusichalloffame.org/media/\">Media</a></li><li id=\"menu-item-179\" class=\"menu-item menu-item-type-post_type menu-item-object-page\"><a href=\"https://countrymusichalloffame.org/internships/\">Internships</a></li></ul></nav></div>\\n\\t</div>\\n</div>\\n\\t</div>\\n</div>\\n\\t\\t\\t<div class=\"fl-col fl-node-5c49e3c1df869 fl-col-small footer-right\" data-node=\"5c49e3c1df869\">\\n\\t<div class=\"fl-col-content fl-node-content\">\\n\\t<div class=\"fl-module fl-module-rich-text fl-node-5c49e8f0d9fa1 follow-text\" data-node=\"5c49e8f0d9fa1\">\\n\\t<div class=\"fl-module-content fl-node-content\">\\n\\t\\t<div class=\"fl-rich-text\">\\n\\t<p>STAY UP TO DATE</p>\\n</div>\\n\\t</div>\\n</div>\\n<div class=\"fl-module fl-module-fbyf-button-module fl-node-5c9b87f4ee249\" data-node=\"5c9b87f4ee249\">\\n\\t<div class=\"fl-module-content fl-node-content\">\\n\\t\\t<div class=\"fbyf-button-module\"> \\n    \\n    <!-- Single regular button -->\\n    \\n    <!-- Inline regular buttons -->\\n    \\n    <!-- Single text button -->\\n      \\n        \\n                    <div class=\"fbyf-btn-wrapper inline-text\"> \\n                <a href=\"https://cmhof.typeform.com/to/Dks7Gu\"> \\n                    <span>SIGN UP FOR OUR NEWSLETTER</span>\\n                    <svg width=\"15px\" height=\"15px\" viewBox=\"0 0 15 15\" version=\"1.1\" xmlns=\"http://www.w3.org/2000/svg\" xmlns:xlink=\"http://www.w3.org/1999/xlink\">\\n                        <g id=\"Symbols\" stroke=\"none\" stroke-width=\"1\" fill=\"none\" fill-rule=\"evenodd\">\\n                            <g id=\"Icon/CMHOF/arrow-right\">\\n                                <rect id=\"Rectangle\" x=\"0\" y=\"0\" width=\"15\" height=\"15\"></rect>\\n                                <polygon id=\"Fill-1\" fill=\"#F0B23A\" points=\"8.59732882 13.03125 8.59732882 9.79762459 2 9.79762459 2 4.25168919 8.59732882 4.25168919 8.59732882 1 13.96875 7.01562616\"></polygon>\\n                            </g>\\n                        </g>\\n                    </svg>\\n                </a>\\n            </div>\\n        \\n    \\n    <!-- Inline text button -->\\n    </div>\\n\\t</div>\\n</div>\\n<div class=\"fl-module fl-module-rich-text fl-node-5c9b87dd5c405 follow-text\" data-node=\"5c9b87dd5c405\">\\n\\t<div class=\"fl-module-content fl-node-content\">\\n\\t\\t<div class=\"fl-rich-text\">\\n\\t<p>FOLLOW US</p>\\n</div>\\n\\t</div>\\n</div>\\n<div class=\"fl-module fl-module-fbyf-social-icons fl-node-5c741bdd8ab3e social-media-icons-container\" data-node=\"5c741bdd8ab3e\">\\n\\t<div class=\"fl-module-content fl-node-content\">\\n\\t\\t<div class=\"fbyf-social-icons-wrapper\">\\n\\n    \\n        <div class=\"social_icon\">\\n            <a href=\"https://www.facebook.com/countrymusichof\" target=\"_blank\">\\n                <img src=\"https://cmhof.imgix.net/social/facebook.svg\">\\n            </a>\\n        </div>\\n\\n    \\n        <div class=\"social_icon\">\\n            <a href=\"https://twitter.com/countrymusichof\" target=\"_blank\">\\n                <img src=\"https://cmhof.imgix.net/social/twitter.svg\">\\n            </a>\\n        </div>\\n\\n    \\n        <div class=\"social_icon\">\\n            <a href=\"http://instagram.com/officialcmhof\" target=\"_blank\">\\n                <img src=\"https://cmhof.imgix.net/social/instagram.svg\">\\n            </a>\\n        </div>\\n\\n    \\n        <div class=\"social_icon\">\\n            <a href=\"https://www.snapchat.com/add/countrymusichof\" target=\"_blank\">\\n                <img src=\"https://cmhof.imgix.net/social/snapchat.svg\">\\n            </a>\\n        </div>\\n\\n    \\n        <div class=\"social_icon\">\\n            <a href=\"http://www.youtube.com/user/countrymusichof\" target=\"_blank\">\\n                <img src=\"https://cmhof.imgix.net/social/youtube.svg\">\\n            </a>\\n        </div>\\n\\n    \\n</div>\\n\\t</div>\\n</div>\\n\\t</div>\\n</div>\\n\\t</div>\\n\\t\\t</div>\\n\\t</div>\\n</div>\\n<div class=\"fl-row fl-row-full-width fl-row-bg-color fl-node-5c49e433e27db footer-info\" data-node=\"5c49e433e27db\">\\n\\t<div class=\"fl-row-content-wrap\">\\n\\t\\t\\t\\t\\t\\t<div class=\"fl-row-content fl-row-fixed-width fl-node-content\">\\n\\t\\t\\n<div class=\"fl-col-group fl-node-5c49e433e5f28\" data-node=\"5c49e433e5f28\">\\n\\t\\t\\t<div class=\"fl-col fl-node-5c49e42adb057 footer-text-wrapper\" data-node=\"5c49e42adb057\">\\n\\t<div class=\"fl-col-content fl-node-content\">\\n\\t<div class=\"fl-module fl-module-rich-text fl-node-5c49e4942f4a2\" data-node=\"5c49e4942f4a2\">\\n\\t<div class=\"fl-module-content fl-node-content\">\\n\\t\\t<div class=\"fl-rich-text\">\\n\\t<p style=\"text-align: center;\">Country Music Hall of Fame and Museum \\xe2\\x80\\xa2 222 Fifth Avenue South Nashville, TN 37203 \\xe2\\x80\\xa2 Phone: 615.416.2001 \\xc2\\xa92018 Country Music Hall of Fame\\xc2\\xae and Museum All Rights Reserved | <a href=\"https://countrymusichalloffame.org/privacy-policy/\">Privacy Policy</a> | <a href=\"https://countrymusichalloffame.org/terms-of-use/\">Terms Of Use</a></p>\\n</div>\\n\\t</div>\\n</div>\\n<div class=\"fl-module fl-module-rich-text fl-node-5cab5ce23b3f6\" data-node=\"5cab5ce23b3f6\">\\n\\t<div class=\"fl-module-content fl-node-content\">\\n\\t\\t<div class=\"fl-rich-text\">\\n\\t<p><a href=\"https://www.aam-us.org/\" target=\"_blank\"><img class=\"aligncenter wp-image-9376 size-full\" src=\"https://cmhof.imgix.net/content/uploads/2019/04/American-Alliance-of-Museums-Footer-1.png\" alt=\"\" width=\"55\" height=\"55\" /></a></p>\\n</div>\\n\\t</div>\\n</div>\\n\\t</div>\\n</div>\\n\\t</div>\\n\\n<div class=\"fl-col-group fl-node-5c6d72a8c5542\" data-node=\"5c6d72a8c5542\">\\n\\t\\t\\t<div class=\"fl-col fl-node-5c6d72a8c5631\" data-node=\"5c6d72a8c5631\">\\n\\t<div class=\"fl-col-content fl-node-content\">\\n\\t<div class=\"fl-module fl-module-rich-text fl-node-5c6d72a8c54e1 fbyf-copy\" data-node=\"5c6d72a8c54e1\">\\n\\t<div class=\"fl-module-content fl-node-content\">\\n\\t\\t<div class=\"fl-rich-text\">\\n\\t<p style=\"text-align: center;\">Site Designed and Developed by\\xc2\\xa0<a href=\"http://5by5agency.com/\" target=\"_blank\" rel=\"noopener\">5by5 - A Change Agency</a></p>\\n</div>\\n\\t</div>\\n</div>\\n\\t</div>\\n</div>\\n\\t</div>\\n\\t\\t</div>\\n\\t</div>\\n</div>\\n</footer>\\t</div><!-- .fl-page -->\\n<script type=\\'text/javascript\\' src=\\'https://countrymusichalloffame.org/content/plugins/5by5-plugin/mobile-nav/mobile-nav.js?ver=1.0\\'></script>\\n<script type=\\'text/javascript\\' src=\\'https://countrymusichalloffame.org/content/plugins/5by5-plugin/taxonomy-filter/taxonomy-filter.js?ver=1.0\\'></script>\\n<script type=\\'text/javascript\\' src=\\'https://countrymusichalloffame.org/content/plugins/5by5-plugin/upcoming-events/upcoming-events.js?ver=1.0.1\\'></script>\\n<script type=\\'text/javascript\\' src=\\'https://countrymusichalloffame.org/content/plugins/5by5-plugin/cookie.js?ver=1.0\\'></script>\\n<script type=\\'text/javascript\\' src=\\'https://countrymusichalloffame.org/content/plugins/5by5-plugin/player-vimeo.js?ver=1.0\\'></script>\\n<script type=\\'text/javascript\\' src=\\'https://countrymusichalloffame.org/content/uploads/bb-plugin/cache/12-layout.js?ver=de6ed36f85a1ab493dfd9b920ed5263a\\'></script>\\n<script type=\\'text/javascript\\' src=\\'https://countrymusichalloffame.org/content/plugins/cmhof-plugin/_assets/js/main.min.js?ver=1.0.0\\'></script>\\n<script type=\\'text/javascript\\' src=\\'https://countrymusichalloffame.org/content/plugins/bb-plugin/js/jquery.ba-throttle-debounce.min.js?ver=2.2.3\\'></script>\\n<script type=\\'text/javascript\\' src=\\'https://countrymusichalloffame.org/content/uploads/bb-plugin/cache/139f0ce2a36c559f47110f2fe0ad1487-layout-bundle.js?ver=2.2.3-1.2.3.4\\'></script>\\n<script src=\"https://countrymusichalloffame.org/content/themes/cmhof-theme/assets/js/compressed.min.js?ver=1.0.0\" defer async type=\"text/javascript\"></script><script type=\\'text/javascript\\' src=\\'https://countrymusichalloffame.org/content/themes/cmhof-theme/assets/js/vendor/moment-with-locales.js?ver=1.0.0\\'></script>\\n<script type=\\'text/javascript\\' src=\\'https://countrymusichalloffame.org/content/themes/cmhof-theme/assets/js/vendor/moment-timezone-with-data.js?ver=1.0.0\\'></script>\\n<script src=\"https://countrymusichalloffame.org/content/themes/cmhof-theme/assets/js/main.min.js?ver=1.0.0\" defer async type=\"text/javascript\"></script><script type=\\'text/javascript\\' src=\\'https://countrymusichalloffame.org/content/plugins/bb-plugin/js/jquery.magnificpopup.min.js?ver=2.2.3\\'></script>\\n<script type=\\'text/javascript\\' src=\\'https://countrymusichalloffame.org/content/themes/bb-theme/js/theme.min.js?ver=1.7.2\\'></script>\\n<script type=\\'text/javascript\\' src=\\'https://countrymusichalloffame.org/wp/wp-includes/js/wp-embed.min.js?ver=5.1.1\\'></script>\\n\\n      <script>\\n        var tessConfig = {};\\n\\n        try{\\n          tessConfig = {\"domain\":\"https:\\\\/\\\\/secure.countrymusichalloffame.org\",\"max_tickets\":9,\"mos\":2,\"tess_cookie_name\":\"TNEW\",\"site_id\":\"cmhof\",\"tessCookieName\":\"TNEW\",\"anonId\":\"14\",\"urls\":{\"cart\":\"\\\\/cart\\\\/details\",\"events\":\"\\\\/events\",\"session_key\":\"\\\\/api\\\\/session\\\\/sessionkey\"}};\\n        }\\n        catch (e) {\\n          console.log(\\'caught e in tessituraConfig script\\', e, tessConfig);\\n        }\\n\\n        window.tessConfig = tessConfig;\\n      </script>\\n\\n      \\n  <div id=\"cookieConsent\">\\n\\n    <div id=\"closeCookieConsent\" class=\"quick-alert-banner_content--close\">\\n\\t\\t<i class=\"fas fa-times-circle\"></i>\\n\\t</div>\\n\\n    <p>We use cookies in the following ways: (1) for system administration, (2) to assess the performance of the website, (3) to personalize your experience, content and ads, (4) to provide social media features, and (5) to analyze our traffic. You consent to our cookies if you continue to use our website.\\xc2\\xa0 Please consult instructions for your web browser to disable or block cookies, or to receive a warning before a cookie is stored on your computer or mobile device.</p>\\n\\n    <a class=\"cookie-consent\">That\\'s Fine</a>\\n</div>\\n\\n\\n\\n<script>\\n  console.log(\\'cookie_consent_popup\\');\\n    // Do not delete this code\\n    jQuery(document).ready(function( $ ) {\\n      if (!Cookies.get(\\'cookie_consent\\')) {\\n        setTimeout(function () {\\n            $(\"#cookieConsent\").fadeIn(200);\\n        }, 4000);\\n\\n        $(\"#closeCookieConsent, .cookie-consent\").click(function() {\\n            Cookies.set(\\'cookie_consent\\', \\'true\\');\\n            $(\"#cookieConsent\").fadeOut(200);\\n        });\\n      }\\n    });\\n</script>\\n\\n\\n<!-- BrowserSync. -->\\n\\n</body>\\n</html>\\n'"
      ]
     },
     "execution_count": 3,
     "metadata": {},
     "output_type": "execute_result"
    }
   ],
   "source": [
    "print(type(response))\n",
    "response.content"
   ]
  },
  {
   "cell_type": "markdown",
   "metadata": {},
   "source": [
    "### Use Beautiful Soup to extract data from HTML"
   ]
  },
  {
   "cell_type": "code",
   "execution_count": 4,
   "metadata": {},
   "outputs": [
    {
     "name": "stdout",
     "output_type": "stream",
     "text": [
      "<title>Hall of Fame Members | Country Music Hall of Fame</title>\n"
     ]
    }
   ],
   "source": [
    "artists = BeautifulSoup(response.content, 'lxml')\n",
    "print(artists.title)"
   ]
  },
  {
   "cell_type": "code",
   "execution_count": 5,
   "metadata": {},
   "outputs": [],
   "source": [
    "# print(artists)"
   ]
  },
  {
   "cell_type": "markdown",
   "metadata": {},
   "source": [
    "### Find tables containing data"
   ]
  },
  {
   "cell_type": "code",
   "execution_count": 6,
   "metadata": {},
   "outputs": [],
   "source": [
    "names = artists.find_all('div', attrs = {'class': 'vertical-card_content--title'})\n",
    "# print(names)"
   ]
  },
  {
   "cell_type": "code",
   "execution_count": 7,
   "metadata": {},
   "outputs": [],
   "source": [
    "dates = artists.find_all('div', attrs = {'class': 'vertical-card_content--copy'})\n",
    "# print(dates)"
   ]
  },
  {
   "cell_type": "markdown",
   "metadata": {},
   "source": [
    "### For Loop Finding Artist"
   ]
  },
  {
   "cell_type": "code",
   "execution_count": 8,
   "metadata": {},
   "outputs": [
    {
     "name": "stdout",
     "output_type": "stream",
     "text": [
      "['Roy Acuff', 'Alabama', 'Bill Anderson', 'Eddy Arnold', 'Chet Atkins', 'Gene Autry', 'DeFord Bailey', 'Bobby Bare', 'Johnny Bond']\n"
     ]
    }
   ],
   "source": [
    "artist = []\n",
    "for i in range(len(names)):\n",
    "    name = names[i].get_text().replace(\"\\n\", \"\").strip()\n",
    "    artist.append(name)\n",
    "print(artist)"
   ]
  },
  {
   "cell_type": "markdown",
   "metadata": {},
   "source": [
    "### For Loop Finding Inducted Date"
   ]
  },
  {
   "cell_type": "code",
   "execution_count": 9,
   "metadata": {},
   "outputs": [
    {
     "name": "stdout",
     "output_type": "stream",
     "text": [
      "['1962', '2005', '2001', '1966', '1973', '1969', '2005', '2013', '1999']\n"
     ]
    }
   ],
   "source": [
    "inducted = []\n",
    "for i in range(len(dates)):\n",
    "    date = dates[i].get_text().replace(\"\\n\", \"\").strip()\n",
    "    year = re.sub(\"[^0-9]\", \"\", date)\n",
    "    inducted.append(year)\n",
    "print(inducted)\n",
    "\n",
    "# year = []\n",
    "# for element.text in years_list:\n",
    "#     year.append(element.strip())\n",
    "\n",
    "# print(year)"
   ]
  },
  {
   "cell_type": "code",
   "execution_count": 10,
   "metadata": {},
   "outputs": [],
   "source": [
    "# year = []\n",
    "# for element.text in years_list:\n",
    "#     year.append(element.strip())\n",
    "\n",
    "# print(year)"
   ]
  },
  {
   "cell_type": "code",
   "execution_count": 11,
   "metadata": {},
   "outputs": [],
   "source": [
    "# type(names)"
   ]
  },
  {
   "cell_type": "code",
   "execution_count": 12,
   "metadata": {},
   "outputs": [],
   "source": [
    "# len(names)"
   ]
  },
  {
   "cell_type": "code",
   "execution_count": 13,
   "metadata": {},
   "outputs": [],
   "source": [
    "# result_list= pd.read_html(str(names[3])) # a list of dataframes\n",
    "# len(result_list)"
   ]
  },
  {
   "cell_type": "code",
   "execution_count": 14,
   "metadata": {},
   "outputs": [
    {
     "data": {
      "text/html": [
       "<div>\n",
       "<style scoped>\n",
       "    .dataframe tbody tr th:only-of-type {\n",
       "        vertical-align: middle;\n",
       "    }\n",
       "\n",
       "    .dataframe tbody tr th {\n",
       "        vertical-align: top;\n",
       "    }\n",
       "\n",
       "    .dataframe thead th {\n",
       "        text-align: right;\n",
       "    }\n",
       "</style>\n",
       "<table border=\"1\" class=\"dataframe\">\n",
       "  <thead>\n",
       "    <tr style=\"text-align: right;\">\n",
       "      <th></th>\n",
       "      <th>name</th>\n",
       "      <th>inducted</th>\n",
       "    </tr>\n",
       "  </thead>\n",
       "  <tbody>\n",
       "    <tr>\n",
       "      <th>0</th>\n",
       "      <td>Roy Acuff</td>\n",
       "      <td>1962</td>\n",
       "    </tr>\n",
       "    <tr>\n",
       "      <th>1</th>\n",
       "      <td>Alabama</td>\n",
       "      <td>2005</td>\n",
       "    </tr>\n",
       "    <tr>\n",
       "      <th>2</th>\n",
       "      <td>Bill Anderson</td>\n",
       "      <td>2001</td>\n",
       "    </tr>\n",
       "    <tr>\n",
       "      <th>3</th>\n",
       "      <td>Eddy Arnold</td>\n",
       "      <td>1966</td>\n",
       "    </tr>\n",
       "    <tr>\n",
       "      <th>4</th>\n",
       "      <td>Chet Atkins</td>\n",
       "      <td>1973</td>\n",
       "    </tr>\n",
       "    <tr>\n",
       "      <th>5</th>\n",
       "      <td>Gene Autry</td>\n",
       "      <td>1969</td>\n",
       "    </tr>\n",
       "    <tr>\n",
       "      <th>6</th>\n",
       "      <td>DeFord Bailey</td>\n",
       "      <td>2005</td>\n",
       "    </tr>\n",
       "    <tr>\n",
       "      <th>7</th>\n",
       "      <td>Bobby Bare</td>\n",
       "      <td>2013</td>\n",
       "    </tr>\n",
       "    <tr>\n",
       "      <th>8</th>\n",
       "      <td>Johnny Bond</td>\n",
       "      <td>1999</td>\n",
       "    </tr>\n",
       "  </tbody>\n",
       "</table>\n",
       "</div>"
      ],
      "text/plain": [
       "            name inducted\n",
       "0      Roy Acuff     1962\n",
       "1        Alabama     2005\n",
       "2  Bill Anderson     2001\n",
       "3    Eddy Arnold     1966\n",
       "4    Chet Atkins     1973\n",
       "5     Gene Autry     1969\n",
       "6  DeFord Bailey     2005\n",
       "7     Bobby Bare     2013\n",
       "8    Johnny Bond     1999"
      ]
     },
     "execution_count": 14,
     "metadata": {},
     "output_type": "execute_result"
    }
   ],
   "source": [
    "HOF = pd.DataFrame(list(zip(artist,inducted)),columns=['name','inducted'])\n",
    "HOF\n",
    "# names_dates_df = pd.DataFrame([names,dates]).T\n",
    "# names_dates_df.columns=['Name','Inducted']\n",
    "# names_dates_df"
   ]
  },
  {
   "cell_type": "code",
   "execution_count": 15,
   "metadata": {},
   "outputs": [],
   "source": [
    "# HOF['Name'] = HOF['Name'].astype('str')"
   ]
  },
  {
   "cell_type": "code",
   "execution_count": 16,
   "metadata": {},
   "outputs": [],
   "source": [
    "# HOF['Inducted'].replace('Inducted ', '', regex=True, inplace=True)"
   ]
  },
  {
   "cell_type": "markdown",
   "metadata": {},
   "source": [
    "### Apply Across All Webpages"
   ]
  },
  {
   "cell_type": "markdown",
   "metadata": {},
   "source": [
    "_.format allow you to use {} as a place holder in the website URLs_<br>\n",
    "_Use nested for loops_"
   ]
  },
  {
   "cell_type": "code",
   "execution_count": 17,
   "metadata": {},
   "outputs": [
    {
     "name": "stdout",
     "output_type": "stream",
     "text": [
      "['Roy Acuff', 'Alabama', 'Bill Anderson', 'Eddy Arnold', 'Chet Atkins', 'Gene Autry', 'DeFord Bailey', 'Bobby Bare', 'Johnny Bond', 'Bobby Braddock', 'Harold Bradley', 'Jerry Bradley', 'Owen Bradley', 'Rod Brasfield', 'Garth Brooks', 'Brooks & Dunn', 'Jim Ed Brown', 'Jim Ed Brown and the Browns', 'Boudleaux and Felice Bryant', 'Glen Campbell', 'Bill Carlisle', 'Carter Family', 'Johnny Cash', 'Roy Clark', 'Cowboy Jack Clement', 'Patsy Cline', 'Hank Cochran', 'Paul Cohen', 'Floyd Cramer', 'Vernon Dalhart', 'Charlie Daniels', 'Jimmie Davis', 'Jimmy Dean', 'Delmore Brothers', 'Jim Denny', 'Little Jimmy Dickens', 'Ralph Emery', 'The Everly Brothers', 'Flatt And Scruggs', 'Jim Foglesong', 'Red Foley', 'Tennessee Ernie Ford', 'Fred Foster', 'Joseph Frank', 'Lefty Frizzell', 'Connie B. Gay', 'Don Gibson', 'Vince Gill', 'Johnny Gimble', 'Merle Haggard', 'Tom T. Hall', 'Emmylou Harris', 'George D. Hay', 'Homer and Jethro', 'Roy Horton', 'Harlan Howard', 'Ferlin Husky', 'Alan Jackson', 'Sonny James', 'Waylon Jennings', 'George Jones', 'Grandpa Jones', 'Jordanaires', 'Pee Wee King', 'Kris Kristofferson', 'Don Law', 'Brenda Lee', 'Hubert Long', 'The Louvin Brothers', 'Loretta Lynn', 'Uncle David Macon', 'Barbara Mandrell', 'Grady Martin', 'Charlie McCoy', 'Reba McEntire', 'Roger Miller', 'Ronnie Milsap', 'Bill Monroe', 'Patsy Montana', 'George Morgan', 'Ken Nelson', 'Willie Nelson', 'Oak Ridge Boys', 'Buck Owens', 'Dolly Parton', 'Minnie Pearl', 'Ralph Peer', 'Sam Phillips', 'Webb Pierce', 'Elvis Presley', 'Frances Preston', 'Ray Price', 'Charley Pride', '\\u200bJerry Reed', 'Jim Reeves', 'Tex Ritter', 'Hargus “Pig” Robbins', 'Marty Robbins', 'Jimmie Rodgers', 'Kenny Rogers', 'Roy Rogers', 'Fred Rose', 'Wesley Rose', 'Arthur E. Satherley', 'Don Schlitz', 'Jean Shepard', 'Billy Sherrill', 'Stephen Sholes', 'Ricky Skaggs', 'Carl Smith', 'Connie Smith', 'Hank Snow', 'Sons of the Pioneers', 'Jack Stapp', 'Ray Stevens', 'Cliffie Stone', 'Ernest V. “Pop” Stoneman', 'George Strait', 'The Duke of Paducah', 'The Statler Brothers', 'Hank Thompson', 'Mel Tillis', 'Floyd Tillman', 'Merle Travis', 'Randy Travis', 'Ernest Tubb', 'Grant Turner', 'Conway Twitty', 'Porter Wagoner', 'Cindy Walker', 'Jo Walker-Meador', 'Kitty Wells', 'E. W. “Bud” Wendell', 'Dottie West', 'Don Williams', 'Hank Williams', 'Bob Wills', 'Mac Wiseman', 'Tammy Wynette', 'Faron Young']\n",
      "['1962', '2005', '2001', '1966', '1973', '1969', '2005', '2013', '1999', '2011', '2006', '2019', '1974', '1987', '2012', '2019', '2015', '2015', '1991', '2005', '2002', '1970', '1980', '2009', '2013', '1973', '2014', '1976', '2003', '1981', '2016', '1972', '2010', '2001', '1966', '1983', '2007', '2001', '1985', '2004', '1967', '1990', '2016', '1967', '1982', '1980', '2001', '2007', '2018', '1994', '2008', '2008', '1966', '2001', '1982', '1997', '2010', '2017', '2006', '2001', '1992', '1978', '2001', '1974', '2004', '2001', '1997', '1979', '2001', '1988', '1966', '2009', '2015', '2009', '2011', '1995', '2014', '1970', '1996', '1998', '2001', '1993', '2015', '1996', '1999', '1975', '1984', '2001', '2001', '1998', '1992', '1996', '2000', '2017', '1967', '1964', '2012', '1982', '1961', '2013', '1988', '1961', '1986', '1971', '2017', '2011', '2010', '1967', '2018', '2003', '2012', '1979', '1980', '1989', '2019', '1989', '2008', '2006', '1986', '2008', '1989', '2007', '1984', '1977', '2016', '1965', '1981', '1999', '2002', '1997', '1995', '1976', '1998', '2018', '2010', '1961', '1968', '2014', '1998', '2000']\n",
      "['https://countrymusichalloffame.org/artist/roy-acuff/', 'https://countrymusichalloffame.org/artist/alabama/', 'https://countrymusichalloffame.org/artist/bill-anderson/', 'https://countrymusichalloffame.org/artist/eddy-arnold/', 'https://countrymusichalloffame.org/artist/chet-atkins/', 'https://countrymusichalloffame.org/artist/gene-autry/', 'https://countrymusichalloffame.org/artist/deford-bailey/', 'https://countrymusichalloffame.org/artist/bobby-bare/', 'https://countrymusichalloffame.org/artist/johnny-bond/', 'https://countrymusichalloffame.org/artist/bobby-braddock/', 'https://countrymusichalloffame.org/artist/harold-bradley/', 'https://countrymusichalloffame.org/artist/jerry-bradley/', 'https://countrymusichalloffame.org/artist/owen-bradley/', 'https://countrymusichalloffame.org/artist/rod-brasfield/', 'https://countrymusichalloffame.org/artist/garth-brooks/', 'https://countrymusichalloffame.org/artist/brooks-dunn/', 'https://countrymusichalloffame.org/artist/jim-ed-brown/', 'https://countrymusichalloffame.org/artist/jim-ed-brown-and-the-browns/', 'https://countrymusichalloffame.org/artist/boudleaux-and-felice-bryant/', 'https://countrymusichalloffame.org/artist/glen-campbell/', 'https://countrymusichalloffame.org/artist/bill-carlisle/', 'https://countrymusichalloffame.org/artist/carter-family/', 'https://countrymusichalloffame.org/artist/johnny-cash/', 'https://countrymusichalloffame.org/artist/roy-clark/', 'https://countrymusichalloffame.org/artist/cowboy-jack-clement/', 'https://countrymusichalloffame.org/artist/patsy-cline/', 'https://countrymusichalloffame.org/artist/hank-cochran/', 'https://countrymusichalloffame.org/artist/paul-cohen/', 'https://countrymusichalloffame.org/artist/floyd-cramer/', 'https://countrymusichalloffame.org/artist/vernon-dalhart/', 'https://countrymusichalloffame.org/artist/charlie-daniels/', 'https://countrymusichalloffame.org/artist/jimmie-davis/', 'https://countrymusichalloffame.org/artist/jimmy-dean/', 'https://countrymusichalloffame.org/artist/delmore-brothers/', 'https://countrymusichalloffame.org/artist/jim-denny/', 'https://countrymusichalloffame.org/artist/little-jimmy-dickens/', 'https://countrymusichalloffame.org/artist/ralph-emery/', 'https://countrymusichalloffame.org/artist/the-everly-brothers/', 'https://countrymusichalloffame.org/artist/flatt-and-scruggs/', 'https://countrymusichalloffame.org/artist/jim-foglesong/', 'https://countrymusichalloffame.org/artist/red-foley/', 'https://countrymusichalloffame.org/artist/tennessee-ernie-ford/', 'https://countrymusichalloffame.org/artist/fred-foster/', 'https://countrymusichalloffame.org/artist/joseph-frank/', 'https://countrymusichalloffame.org/artist/lefty-frizzell/', 'https://countrymusichalloffame.org/artist/connie-b-gay/', 'https://countrymusichalloffame.org/artist/don-gibson/', 'https://countrymusichalloffame.org/artist/vince-gill/', 'https://countrymusichalloffame.org/artist/johnny-gimble/', 'https://countrymusichalloffame.org/artist/merle-haggard/', 'https://countrymusichalloffame.org/artist/tom-t-hall/', 'https://countrymusichalloffame.org/artist/emmylou-harris/', 'https://countrymusichalloffame.org/artist/george-d-hay/', 'https://countrymusichalloffame.org/artist/homer-and-jethro/', 'https://countrymusichalloffame.org/artist/roy-horton/', 'https://countrymusichalloffame.org/artist/harlan-howard/', 'https://countrymusichalloffame.org/artist/ferlin-husky/', 'https://countrymusichalloffame.org/artist/alan-jackson/', 'https://countrymusichalloffame.org/artist/sonny-james/', 'https://countrymusichalloffame.org/artist/waylon-jennings/', 'https://countrymusichalloffame.org/artist/george-jones/', 'https://countrymusichalloffame.org/artist/grandpa-jones/', 'https://countrymusichalloffame.org/artist/jordanaires/', 'https://countrymusichalloffame.org/artist/pee-wee-king/', 'https://countrymusichalloffame.org/artist/kris-kristofferson/', 'https://countrymusichalloffame.org/artist/don-law/', 'https://countrymusichalloffame.org/artist/brenda-lee/', 'https://countrymusichalloffame.org/artist/hubert-long/', 'https://countrymusichalloffame.org/artist/the-louvin-brothers/', 'https://countrymusichalloffame.org/artist/loretta-lynn/', 'https://countrymusichalloffame.org/artist/uncle-david-macon/', 'https://countrymusichalloffame.org/artist/barbara-mandrell/', 'https://countrymusichalloffame.org/artist/grady-martin/', 'https://countrymusichalloffame.org/artist/charlie-mccoy/', 'https://countrymusichalloffame.org/artist/reba-mcentire/', 'https://countrymusichalloffame.org/artist/roger-miller/', 'https://countrymusichalloffame.org/artist/ronnie-milsap/', 'https://countrymusichalloffame.org/artist/bill-monroe/', 'https://countrymusichalloffame.org/artist/patsy-montana/', 'https://countrymusichalloffame.org/artist/george-morgan/', 'https://countrymusichalloffame.org/artist/ken-nelson/', 'https://countrymusichalloffame.org/artist/willie-nelson/', 'https://countrymusichalloffame.org/artist/oak-ridge-boys/', 'https://countrymusichalloffame.org/artist/buck-owens/', 'https://countrymusichalloffame.org/artist/dolly-parton/', 'https://countrymusichalloffame.org/artist/minnie-pearl/', 'https://countrymusichalloffame.org/artist/ralph-peer/', 'https://countrymusichalloffame.org/artist/sam-phillips/', 'https://countrymusichalloffame.org/artist/webb-pierce/', 'https://countrymusichalloffame.org/artist/elvis-presley/', 'https://countrymusichalloffame.org/artist/frances-preston/', 'https://countrymusichalloffame.org/artist/ray-price/', 'https://countrymusichalloffame.org/artist/charley-pride/', 'https://countrymusichalloffame.org/artist/%e2%80%8bjerry-reed/', 'https://countrymusichalloffame.org/artist/jim-reeves/', 'https://countrymusichalloffame.org/artist/tex-ritter/', 'https://countrymusichalloffame.org/artist/hargus-pig-robbins/', 'https://countrymusichalloffame.org/artist/marty-robbins/', 'https://countrymusichalloffame.org/artist/jimmie-rodgers/', 'https://countrymusichalloffame.org/artist/kenny-rogers/', 'https://countrymusichalloffame.org/artist/roy-rogers/', 'https://countrymusichalloffame.org/artist/fred-rose/', 'https://countrymusichalloffame.org/artist/wesley-rose/', 'https://countrymusichalloffame.org/artist/arthur-e-satherley/', 'https://countrymusichalloffame.org/artist/don-schlitz/', 'https://countrymusichalloffame.org/artist/jean-shepard/', 'https://countrymusichalloffame.org/artist/billy-sherrill/', 'https://countrymusichalloffame.org/artist/stephen-sholes/', 'https://countrymusichalloffame.org/artist/ricky-skaggs/', 'https://countrymusichalloffame.org/artist/carl-smith/', 'https://countrymusichalloffame.org/artist/connie-smith/', 'https://countrymusichalloffame.org/artist/hank-snow/', 'https://countrymusichalloffame.org/artist/sons-of-the-pioneers/', 'https://countrymusichalloffame.org/artist/jack-stapp/', 'https://countrymusichalloffame.org/artist/ray-stevens/', 'https://countrymusichalloffame.org/artist/cliffie-stone/', 'https://countrymusichalloffame.org/artist/ernest-v-pop-stoneman/', 'https://countrymusichalloffame.org/artist/george-strait/', 'https://countrymusichalloffame.org/artist/the-duke-of-paducah/', 'https://countrymusichalloffame.org/artist/the-statler-brothers/', 'https://countrymusichalloffame.org/artist/hank-thompson/', 'https://countrymusichalloffame.org/artist/mel-tillis/', 'https://countrymusichalloffame.org/artist/floyd-tillman/', 'https://countrymusichalloffame.org/artist/merle-travis/', 'https://countrymusichalloffame.org/artist/randy-travis/', 'https://countrymusichalloffame.org/artist/ernest-tubb/', 'https://countrymusichalloffame.org/artist/grant-turner/', 'https://countrymusichalloffame.org/artist/conway-twitty/', 'https://countrymusichalloffame.org/artist/porter-wagoner/', 'https://countrymusichalloffame.org/artist/cindy-walker/', 'https://countrymusichalloffame.org/artist/jo-walker-meador/', 'https://countrymusichalloffame.org/artist/kitty-wells/', 'https://countrymusichalloffame.org/artist/e-w-bud-wendell/', 'https://countrymusichalloffame.org/artist/dottie-west/', 'https://countrymusichalloffame.org/artist/don-williams/', 'https://countrymusichalloffame.org/artist/hank-williams/', 'https://countrymusichalloffame.org/artist/bob-wills/', 'https://countrymusichalloffame.org/artist/mac-wiseman/', 'https://countrymusichalloffame.org/artist/tammy-wynette/', 'https://countrymusichalloffame.org/artist/faron-young/']\n"
     ]
    }
   ],
   "source": [
    "## Shoutout to instructors Teng and Joshua for their code help\n",
    "artists = []\n",
    "inducted = []\n",
    "web_address = []\n",
    "\n",
    "for i in range(1,17):\n",
    "    url = 'https://countrymusichalloffame.org/hall-of-fame/members/page'\n",
    "    response = requests.get(url + str(i))\n",
    "    soup = BeautifulSoup(response.content, 'lxml')\n",
    "#     print(url + str(i))\n",
    "    \n",
    "    artist = soup.find_all('div', attrs = {'class': 'vertical-card_content--title'})\n",
    "    year = soup.find_all('div', attrs = {'class': 'vertical-card_content--copy'})\n",
    "    web = soup.find_all('div', attrs = {'class': 'vertical-card_content'})\n",
    "    \n",
    "    for i in artist:\n",
    "        name = i.h3.text\n",
    "        artists.append(name)\n",
    "    \n",
    "    for i in year:\n",
    "        y = i.p.text.replace('Inducted ', '').strip()\n",
    "        inducted.append(y)\n",
    "    \n",
    "    for i in web:\n",
    "        link = i.a['href']\n",
    "        web_address.append(link)\n",
    "\n",
    "print(artists)\n",
    "print(inducted)\n",
    "print(web_address)"
   ]
  },
  {
   "cell_type": "code",
   "execution_count": 18,
   "metadata": {},
   "outputs": [],
   "source": [
    "# Josh's Code\n",
    "\n",
    "# website_url = 'https://countrymusichalloffame.org/hall-of-fame/members/page/{}'\n",
    "# artists = []\n",
    "# inducted = []\n",
    "# web_address = []\n",
    "# for page in range(1,17):\n",
    "#     url = website_url.format(page)\n",
    "#     response = requests.get(url)\n",
    "#     artist = BeautifulSoup(response.content, 'lxml')\n",
    "#     names = artist.find_all('div', attrs = {'class': 'vertical-card_content--title'})\n",
    "#     dates = artist.find_all('div', attrs = {'class': 'vertical-card_content--copy'})\n",
    "#     web = artist.find_all('div', attrs = {'class': 'vertical-card_content'})\n",
    "#     for i in range(len(names)):\n",
    "#         name = names[i].get_text().replace(\"\\n\", \"\").strip()\n",
    "#         artists.append(name)\n",
    "#     for i in range(len(dates)):\n",
    "#         date = dates[i].get_text().replace(\"\\n\", \"\").strip()\n",
    "#         year = re.sub(\"[^0-9]\", \"\", date)\n",
    "#         inducted.append(year)\n",
    "#     for i in web: #Credit Teng\n",
    "#         link = i.a['href']\n",
    "#         web_address.append(link)\n",
    "# print(artists)\n",
    "# print(inducted)\n",
    "# print(web_address)"
   ]
  },
  {
   "cell_type": "code",
   "execution_count": 19,
   "metadata": {},
   "outputs": [],
   "source": [
    "hof_full = pd.DataFrame(list(zip(artists,inducted,web_address)),columns=['name','inducted','web'])\n",
    "hof_full['inducted'] = hof_full['inducted'].astype('int')"
   ]
  },
  {
   "cell_type": "code",
   "execution_count": 20,
   "metadata": {},
   "outputs": [
    {
     "data": {
      "text/html": [
       "<div>\n",
       "<style scoped>\n",
       "    .dataframe tbody tr th:only-of-type {\n",
       "        vertical-align: middle;\n",
       "    }\n",
       "\n",
       "    .dataframe tbody tr th {\n",
       "        vertical-align: top;\n",
       "    }\n",
       "\n",
       "    .dataframe thead th {\n",
       "        text-align: right;\n",
       "    }\n",
       "</style>\n",
       "<table border=\"1\" class=\"dataframe\">\n",
       "  <thead>\n",
       "    <tr style=\"text-align: right;\">\n",
       "      <th></th>\n",
       "      <th>name</th>\n",
       "      <th>inducted</th>\n",
       "      <th>web</th>\n",
       "    </tr>\n",
       "  </thead>\n",
       "  <tbody>\n",
       "    <tr>\n",
       "      <th>0</th>\n",
       "      <td>Roy Acuff</td>\n",
       "      <td>1962</td>\n",
       "      <td>https://countrymusichalloffame.org/artist/roy-...</td>\n",
       "    </tr>\n",
       "    <tr>\n",
       "      <th>1</th>\n",
       "      <td>Alabama</td>\n",
       "      <td>2005</td>\n",
       "      <td>https://countrymusichalloffame.org/artist/alab...</td>\n",
       "    </tr>\n",
       "    <tr>\n",
       "      <th>2</th>\n",
       "      <td>Bill Anderson</td>\n",
       "      <td>2001</td>\n",
       "      <td>https://countrymusichalloffame.org/artist/bill...</td>\n",
       "    </tr>\n",
       "    <tr>\n",
       "      <th>3</th>\n",
       "      <td>Eddy Arnold</td>\n",
       "      <td>1966</td>\n",
       "      <td>https://countrymusichalloffame.org/artist/eddy...</td>\n",
       "    </tr>\n",
       "    <tr>\n",
       "      <th>4</th>\n",
       "      <td>Chet Atkins</td>\n",
       "      <td>1973</td>\n",
       "      <td>https://countrymusichalloffame.org/artist/chet...</td>\n",
       "    </tr>\n",
       "    <tr>\n",
       "      <th>...</th>\n",
       "      <td>...</td>\n",
       "      <td>...</td>\n",
       "      <td>...</td>\n",
       "    </tr>\n",
       "    <tr>\n",
       "      <th>135</th>\n",
       "      <td>Hank Williams</td>\n",
       "      <td>1961</td>\n",
       "      <td>https://countrymusichalloffame.org/artist/hank...</td>\n",
       "    </tr>\n",
       "    <tr>\n",
       "      <th>136</th>\n",
       "      <td>Bob Wills</td>\n",
       "      <td>1968</td>\n",
       "      <td>https://countrymusichalloffame.org/artist/bob-...</td>\n",
       "    </tr>\n",
       "    <tr>\n",
       "      <th>137</th>\n",
       "      <td>Mac Wiseman</td>\n",
       "      <td>2014</td>\n",
       "      <td>https://countrymusichalloffame.org/artist/mac-...</td>\n",
       "    </tr>\n",
       "    <tr>\n",
       "      <th>138</th>\n",
       "      <td>Tammy Wynette</td>\n",
       "      <td>1998</td>\n",
       "      <td>https://countrymusichalloffame.org/artist/tamm...</td>\n",
       "    </tr>\n",
       "    <tr>\n",
       "      <th>139</th>\n",
       "      <td>Faron Young</td>\n",
       "      <td>2000</td>\n",
       "      <td>https://countrymusichalloffame.org/artist/faro...</td>\n",
       "    </tr>\n",
       "  </tbody>\n",
       "</table>\n",
       "<p>140 rows × 3 columns</p>\n",
       "</div>"
      ],
      "text/plain": [
       "              name  inducted  \\\n",
       "0        Roy Acuff      1962   \n",
       "1          Alabama      2005   \n",
       "2    Bill Anderson      2001   \n",
       "3      Eddy Arnold      1966   \n",
       "4      Chet Atkins      1973   \n",
       "..             ...       ...   \n",
       "135  Hank Williams      1961   \n",
       "136      Bob Wills      1968   \n",
       "137    Mac Wiseman      2014   \n",
       "138  Tammy Wynette      1998   \n",
       "139    Faron Young      2000   \n",
       "\n",
       "                                                   web  \n",
       "0    https://countrymusichalloffame.org/artist/roy-...  \n",
       "1    https://countrymusichalloffame.org/artist/alab...  \n",
       "2    https://countrymusichalloffame.org/artist/bill...  \n",
       "3    https://countrymusichalloffame.org/artist/eddy...  \n",
       "4    https://countrymusichalloffame.org/artist/chet...  \n",
       "..                                                 ...  \n",
       "135  https://countrymusichalloffame.org/artist/hank...  \n",
       "136  https://countrymusichalloffame.org/artist/bob-...  \n",
       "137  https://countrymusichalloffame.org/artist/mac-...  \n",
       "138  https://countrymusichalloffame.org/artist/tamm...  \n",
       "139  https://countrymusichalloffame.org/artist/faro...  \n",
       "\n",
       "[140 rows x 3 columns]"
      ]
     },
     "execution_count": 20,
     "metadata": {},
     "output_type": "execute_result"
    }
   ],
   "source": [
    "hof_full"
   ]
  },
  {
   "cell_type": "markdown",
   "metadata": {},
   "source": [
    "#### Create Visual with Scraped Data"
   ]
  },
  {
   "cell_type": "code",
   "execution_count": 21,
   "metadata": {},
   "outputs": [
    {
     "data": {
      "text/html": [
       "<div>\n",
       "<style scoped>\n",
       "    .dataframe tbody tr th:only-of-type {\n",
       "        vertical-align: middle;\n",
       "    }\n",
       "\n",
       "    .dataframe tbody tr th {\n",
       "        vertical-align: top;\n",
       "    }\n",
       "\n",
       "    .dataframe thead th {\n",
       "        text-align: right;\n",
       "    }\n",
       "</style>\n",
       "<table border=\"1\" class=\"dataframe\">\n",
       "  <thead>\n",
       "    <tr style=\"text-align: right;\">\n",
       "      <th></th>\n",
       "      <th>inducted</th>\n",
       "      <th>count</th>\n",
       "      <th>web</th>\n",
       "    </tr>\n",
       "  </thead>\n",
       "  <tbody>\n",
       "    <tr>\n",
       "      <th>0</th>\n",
       "      <td>1961</td>\n",
       "      <td>3</td>\n",
       "      <td>3</td>\n",
       "    </tr>\n",
       "    <tr>\n",
       "      <th>1</th>\n",
       "      <td>1962</td>\n",
       "      <td>1</td>\n",
       "      <td>1</td>\n",
       "    </tr>\n",
       "    <tr>\n",
       "      <th>2</th>\n",
       "      <td>1964</td>\n",
       "      <td>1</td>\n",
       "      <td>1</td>\n",
       "    </tr>\n",
       "    <tr>\n",
       "      <th>3</th>\n",
       "      <td>1965</td>\n",
       "      <td>1</td>\n",
       "      <td>1</td>\n",
       "    </tr>\n",
       "    <tr>\n",
       "      <th>4</th>\n",
       "      <td>1966</td>\n",
       "      <td>4</td>\n",
       "      <td>4</td>\n",
       "    </tr>\n",
       "  </tbody>\n",
       "</table>\n",
       "</div>"
      ],
      "text/plain": [
       "   inducted  count  web\n",
       "0      1961      3    3\n",
       "1      1962      1    1\n",
       "2      1964      1    1\n",
       "3      1965      1    1\n",
       "4      1966      4    4"
      ]
     },
     "execution_count": 21,
     "metadata": {},
     "output_type": "execute_result"
    }
   ],
   "source": [
    "ind_by_year = hof_full.groupby('inducted').count().reset_index()\n",
    "ind_by_year = ind_by_year.rename({'name': 'count'}, axis=1)\n",
    "ind_by_year.head()"
   ]
  },
  {
   "cell_type": "code",
   "execution_count": 22,
   "metadata": {},
   "outputs": [
    {
     "data": {
      "text/plain": [
       "inducted    2019\n",
       "count         12\n",
       "web           12\n",
       "dtype: int64"
      ]
     },
     "execution_count": 22,
     "metadata": {},
     "output_type": "execute_result"
    }
   ],
   "source": [
    "ind_by_year.max()"
   ]
  },
  {
   "cell_type": "code",
   "execution_count": 23,
   "metadata": {},
   "outputs": [
    {
     "data": {
      "text/plain": [
       "[Text(0, 0.5, 'Total Artists'),\n",
       " Text(0.5, 0, 'Year Inducted'),\n",
       " Text(0.5, 1.0, 'Inducted Members by Year')]"
      ]
     },
     "execution_count": 23,
     "metadata": {},
     "output_type": "execute_result"
    },
    {
     "data": {
      "image/png": "[encoded data removed]",
      "text/plain": [
       "<Figure size 432x288 with 1 Axes>"
      ]
     },
     "metadata": {},
     "output_type": "display_data"
    }
   ],
   "source": [
    "sns.set(style=\"whitegrid\")\n",
    "\n",
    "figsize=(20,15)\n",
    "fig = sns.lineplot(x='inducted', y='count', data=ind_by_year, color='black', linewidth=2.5)\n",
    "fig.set(xlabel='Year Inducted', ylabel='Total Artists', title='Inducted Members by Year')\n",
    "\n"
   ]
  },
  {
   "cell_type": "code",
   "execution_count": 24,
   "metadata": {},
   "outputs": [
    {
     "data": {
      "image/png": "[encoded data removed]",
      "text/plain": [
       "<Figure size 720x360 with 1 Axes>"
      ]
     },
     "metadata": {},
     "output_type": "display_data"
    }
   ],
   "source": [
    "plt.figure(figsize=(10,5)) # Figure size\n",
    "plt.style.use('seaborn-whitegrid') # Selecting whitegrid style\n",
    "\n",
    "n, bins, patches = plt.hist(hof_full.inducted, bins = [1960, 1970, 1980, 1990, 2000, 2010, 2020], facecolor = '#2ab0ff', edgecolor='#169acf', linewidth=0.5 )\n",
    "\n",
    "\n",
    "for i in range(len(patches)):\n",
    "    patches[i].set_facecolor(plt.cm.viridis(n[i]/max(n)))\n",
    "    \n",
    "patches[4].set_fc('red') # Color\n",
    "patches[4].set_alpha(1) # Opacity\n",
    "    \n",
    "# Adding title and labels\n",
    "plt.title('Inducted Members By Decade')\n",
    "plt.xlabel('Decade')\n",
    "plt.ylabel('Total Artists')\n",
    "plt.show()"
   ]
  },
  {
   "cell_type": "markdown",
   "metadata": {},
   "source": [
    "### Bonus Question"
   ]
  },
  {
   "cell_type": "markdown",
   "metadata": {},
   "source": [
    "_scraping each webpage for birth, death and birthplace info_"
   ]
  },
  {
   "cell_type": "code",
   "execution_count": null,
   "metadata": {},
   "outputs": [],
   "source": [
    "birthdeath = []\n",
    "birthplace = []\n",
    "\n",
    "for i in hof_full['web']:\n",
    "#     print(i)\n",
    "    url = i\n",
    "    response = requests.get(url)\n",
    "    soup = BeautifulSoup(response.content, 'lxml')\n",
    "    \n",
    "    bd = soup.find(string=re.compile('Birth|Death')) #uses regex to find Birth or Death  \n",
    "    birthdeath.append(bd)\n",
    "\n",
    "    bp = soup.find(string=re.compile('Birthplace'))\n",
    "    birthplace.append(bp)\n",
    "# birthdeath\n",
    "# birthplace"
   ]
  },
  {
   "cell_type": "markdown",
   "metadata": {},
   "source": [
    "_combine lists into a dataframe_"
   ]
  },
  {
   "cell_type": "code",
   "execution_count": null,
   "metadata": {},
   "outputs": [],
   "source": [
    "# bd_df = pd.DataFrame(list(zip(birthdeath, birthplace)), columns=['birthday_death', 'birthplace'])\n",
    "bd_dic = {'birthday_death': birthdeath, 'birthplace': birthplace}\n",
    "bd_df = pd.DataFrame(bd_dic)\n",
    "bd_df"
   ]
  },
  {
   "cell_type": "code",
   "execution_count": null,
   "metadata": {},
   "outputs": [],
   "source": [
    "bd_df.head(1)"
   ]
  },
  {
   "cell_type": "code",
   "execution_count": null,
   "metadata": {},
   "outputs": [],
   "source": [
    "bd_df_new = bd_df['birthday_death'].str.split(\" - \", n=1, expand=True)\n",
    "bd_df_new.columns = ['birthday', 'death']"
   ]
  },
  {
   "cell_type": "code",
   "execution_count": null,
   "metadata": {},
   "outputs": [],
   "source": [
    "bd_df_new"
   ]
  },
  {
   "cell_type": "code",
   "execution_count": null,
   "metadata": {},
   "outputs": [],
   "source": []
  },
  {
   "cell_type": "code",
   "execution_count": null,
   "metadata": {},
   "outputs": [],
   "source": [
    "b_new = bd_df_new.birthday.str.replace('Birth: ', '')\n",
    "d_new = bd_df_new.death.str.replace('Death: ', '')\n",
    "bp_new = bd_df.birthplace.str.replace('Birthplace: ', '')"
   ]
  },
  {
   "cell_type": "code",
   "execution_count": null,
   "metadata": {},
   "outputs": [],
   "source": [
    "bpbp = {'birth': b_new, 'death': d_new, 'birthplace': bp_new}\n",
    "bdbp_df = pd.DataFrame(bpbp)\n",
    "bdbp_df"
   ]
  },
  {
   "cell_type": "code",
   "execution_count": null,
   "metadata": {},
   "outputs": [],
   "source": [
    "final_hof_df = pd.concat([hof_full ,bdbp_df], axis=1, join='inner') #combining dataframes"
   ]
  },
  {
   "cell_type": "markdown",
   "metadata": {},
   "source": [
    "### Final DataFrame"
   ]
  },
  {
   "cell_type": "code",
   "execution_count": null,
   "metadata": {},
   "outputs": [],
   "source": [
    "final_hof_df.head(20)"
   ]
  },
  {
   "cell_type": "code",
   "execution_count": null,
   "metadata": {},
   "outputs": [],
   "source": []
  }
 ],
 "metadata": {
  "kernelspec": {
   "display_name": "Python 3",
   "language": "python",
   "name": "python3"
  },
  "language_info": {
   "codemirror_mode": {
    "name": "ipython",
    "version": 3
   },
   "file_extension": ".py",
   "mimetype": "text/x-python",
   "name": "python",
   "nbconvert_exporter": "python",
   "pygments_lexer": "ipython3",
   "version": "3.7.6"
  }
 },
 "nbformat": 4,
 "nbformat_minor": 4
}
